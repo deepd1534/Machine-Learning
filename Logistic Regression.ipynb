{
  "cells":[
    {
      "cell_type":"markdown",
      "source":[
        "# Logistic Regression"
      ],
      "attachments":{
        
      },
      "metadata":{
        
      }
    },
    {
      "cell_type":"markdown",
      "source":[
        "### Problem With Linear Regression (Case Study)\n",
        "- Let us say we want to find the relationship between Virat Kohli's score and India winning the match. There are two outputs for result variable, either India will win the match or India will lose the match. Now let us say we want to find whether India wins the match if Virat Kohli scores above 50.\n",
        "- Can we solve the problem using Linear Regression?\n",
        "- As we can see there are two outputs 0 or 1 and no other value in between, we cannot use linear regression in such conditions. Here we are not predicting a numnerical value instedad we are trying to predict one out of the two outcomes 0,1 - WIN,Lose - Yes,No. In such cases where we have to classify we use Logistic Regression.\n",
        "  <img src = 'https:\/\/blog.datasciencedojo.com\/content\/images\/2019\/11\/logistic-regression-tutorial-1.png'>\n",
        "  "
      ],
      "attachments":{
        
      },
      "metadata":{
        
      }
    },
    {
      "cell_type":"markdown",
      "source":[
        "We use Logistic Regression to fit a sigmoid curve, it is an S - shaped line, which tells us the winning probabilty on the basis of another variable X. So Basically we are trying to find out the probability of an event occuring on the basis of another variable.\n",
        "\n",
        "**NOTE:** In Logistic Regression the dependent variable has to be categorical in nature.\n",
        "\n",
        "\n",
        "**EXAMPLE :** Suppose we want to find the relationship between smoking and cancer. Our aim is to find whether a person has cancer or not on the basis of whether he smokes or not. Here, the dependent variable is categorical in nature that is either he\/she is a smoker or not.\n",
        "\n",
        "**SIGMOID FUNCTION** : $f(x) = e^x\/1+e^x$\n",
        "\n"
      ],
      "attachments":{
        
      },
      "metadata":{
        
      }
    },
    {
      "cell_type":"markdown",
      "source":[
        "### IMPLEMENTATION"
      ],
      "attachments":{
        
      },
      "metadata":{
        
      }
    },
    {
      "cell_type":"code",
      "source":[
        "#IMPORTING NECESSARY LIBRARIES\n",
        "\n",
        "import numpy as np\n",
        "import pandas as pd\n",
        "import matplotlib.pyplot as plt\n",
        "import seaborn as sns\n",
        "color = sns.color_palette()\n",
        "import sklearn.metrics as metrics\n",
        "\n",
        "import warnings\n",
        "warnings.filterwarnings(\"ignore\")"
      ],
      "execution_count":59,
      "outputs":[
        
      ],
      "metadata":{
        
      }
    },
    {
      "cell_type":"code",
      "source":[
        "#READING THE DATASET FROM URL\n",
        "\n",
        "url = \"https:\/\/raw.githubusercontent.com\/Statology\/Python-Guides\/main\/default.csv\"\n",
        "df = pd.read_csv(url)\n",
        "df.head()"
      ],
      "execution_count":60,
      "outputs":[
        {
          "data":{
            "text\/html":[
              "<div>\n",
              "<style scoped>\n",
              "    .dataframe tbody tr th:only-of-type {\n",
              "        vertical-align: middle;\n",
              "    }\n",
              "\n",
              "    .dataframe tbody tr th {\n",
              "        vertical-align: top;\n",
              "    }\n",
              "\n",
              "    .dataframe thead th {\n",
              "        text-align: right;\n",
              "    }\n",
              "<\/style>\n",
              "<table border=\"1\" class=\"dataframe\">\n",
              "  <thead>\n",
              "    <tr style=\"text-align: right;\">\n",
              "      <th><\/th>\n",
              "      <th>default<\/th>\n",
              "      <th>student<\/th>\n",
              "      <th>balance<\/th>\n",
              "      <th>income<\/th>\n",
              "    <\/tr>\n",
              "  <\/thead>\n",
              "  <tbody>\n",
              "    <tr>\n",
              "      <th>0<\/th>\n",
              "      <td>0<\/td>\n",
              "      <td>0<\/td>\n",
              "      <td>729.526495<\/td>\n",
              "      <td>44361.625074<\/td>\n",
              "    <\/tr>\n",
              "    <tr>\n",
              "      <th>1<\/th>\n",
              "      <td>0<\/td>\n",
              "      <td>1<\/td>\n",
              "      <td>817.180407<\/td>\n",
              "      <td>12106.134700<\/td>\n",
              "    <\/tr>\n",
              "    <tr>\n",
              "      <th>2<\/th>\n",
              "      <td>0<\/td>\n",
              "      <td>0<\/td>\n",
              "      <td>1073.549164<\/td>\n",
              "      <td>31767.138947<\/td>\n",
              "    <\/tr>\n",
              "    <tr>\n",
              "      <th>3<\/th>\n",
              "      <td>0<\/td>\n",
              "      <td>0<\/td>\n",
              "      <td>529.250605<\/td>\n",
              "      <td>35704.493935<\/td>\n",
              "    <\/tr>\n",
              "    <tr>\n",
              "      <th>4<\/th>\n",
              "      <td>0<\/td>\n",
              "      <td>0<\/td>\n",
              "      <td>785.655883<\/td>\n",
              "      <td>38463.495879<\/td>\n",
              "    <\/tr>\n",
              "  <\/tbody>\n",
              "<\/table>\n",
              "<\/div>"
            ]
          },
          "metadata":{
            
          },
          "output_type":"display_data"
        }
      ],
      "metadata":{
        
      }
    },
    {
      "cell_type":"code",
      "source":[
        "#PRINTING THE SHAPE AND STATISTICS\n",
        "\n",
        "print(df.shape)\n",
        "print(df.describe())"
      ],
      "execution_count":61,
      "outputs":[
        {
          "name":"stdout",
          "text":[
            "(10000, 4)\n",
            "            default       student       balance        income\n",
            "count  10000.000000  10000.000000  10000.000000  10000.000000\n",
            "mean       0.033300      0.294400    835.374886  33516.981876\n",
            "std        0.179428      0.455795    483.714985  13336.639563\n",
            "min        0.000000      0.000000      0.000000    771.967729\n",
            "25%        0.000000      0.000000    481.731105  21340.462903\n",
            "50%        0.000000      0.000000    823.636973  34552.644802\n",
            "75%        0.000000      1.000000   1166.308386  43807.729272\n",
            "max        1.000000      1.000000   2654.322576  73554.233495\n"
          ],
          "output_type":"stream"
        }
      ],
      "metadata":{
        
      }
    },
    {
      "cell_type":"code",
      "source":[
        "df.isnull().sum()"
      ],
      "execution_count":62,
      "outputs":[
        {
          "data":{
            "text\/html":[
              
            ]
          },
          "metadata":{
            
          },
          "output_type":"display_data"
        }
      ],
      "metadata":{
        
      }
    },
    {
      "cell_type":"markdown",
      "source":[
        "### UNIVARIATE ANALYSIS"
      ],
      "attachments":{
        
      },
      "metadata":{
        
      }
    },
    {
      "cell_type":"code",
      "source":[
        "#BOXPLOT OF BALANCE,INCOME COLUMNS\n",
        "\n",
        "sns.set_style('whitegrid')\n",
        "plt.figure(figsize=(15,5))\n",
        "plt.subplot(1,2,1)\n",
        "sns.boxplot(df.balance,color='red')\n",
        "\n",
        "plt.subplot(1,2,2)\n",
        "sns.boxplot(df.income, color = 'blue')\n",
        "plt.show()"
      ],
      "execution_count":63,
      "outputs":[
        {
          "data":{
            "image\/png":"[encoded data removed]"
          },
          "metadata":{
            "image\/png":{
              
            }
          },
          "output_type":"display_data"
        }
      ],
      "metadata":{
        
      }
    },
    {
      "cell_type":"code",
      "source":[
        "#COUNTPLOT OF BALANCE,INCOME COLUMNS\n",
        "\n",
        "sns.set_style('whitegrid')\n",
        "plt.figure(figsize=(15,5))\n",
        "plt.subplot(1,2,1)\n",
        "sns.countplot(df.student,color='red')\n",
        "\n",
        "plt.subplot(1,2,2)\n",
        "sns.countplot(df.default, color = 'blue')\n",
        "plt.show()"
      ],
      "execution_count":64,
      "outputs":[
        {
          "data":{
            "image\/png":"[encoded data removed]"
          },
          "metadata":{
            "image\/png":{
              
            }
          },
          "output_type":"display_data"
        }
      ],
      "metadata":{
        
      }
    },
    {
      "cell_type":"markdown",
      "source":[
        "From the above countplot we can say that around 70000 are non students and rest are non students, also most people tend to clear the default."
      ],
      "attachments":{
        
      },
      "metadata":{
        
      }
    },
    {
      "cell_type":"code",
      "source":[
        "df['student'].value_counts()"
      ],
      "execution_count":65,
      "outputs":[
        {
          "data":{
            "text\/html":[
              
            ]
          },
          "metadata":{
            
          },
          "output_type":"display_data"
        }
      ],
      "metadata":{
        
      }
    },
    {
      "cell_type":"code",
      "source":[
        "df['default'].value_counts()"
      ],
      "execution_count":66,
      "outputs":[
        {
          "data":{
            "text\/html":[
              
            ]
          },
          "metadata":{
            
          },
          "output_type":"display_data"
        }
      ],
      "metadata":{
        
      }
    },
    {
      "cell_type":"markdown",
      "source":[
        "### BIVARIATE ANALYSIS"
      ],
      "attachments":{
        
      },
      "metadata":{
        
      }
    },
    {
      "cell_type":"code",
      "source":[
        "\n",
        "sns.set_style('whitegrid')\n",
        "plt.figure(figsize=(15,5))\n",
        "plt.subplot(1,2,1)\n",
        "sns.boxplot(df['default'],df['income'])\n",
        "\n",
        "plt.subplot(1,2,2)\n",
        "sns.boxplot(df['default'],df['balance'])\n",
        "plt.show()"
      ],
      "execution_count":67,
      "outputs":[
        {
          "data":{
            "image\/png":"[encoded data removed]"
          },
          "metadata":{
            "image\/png":{
              
            }
          },
          "output_type":"display_data"
        }
      ],
      "metadata":{
        
      }
    },
    {
      "cell_type":"markdown",
      "source":[
        "From the above boxplots we can say that, those who clear their defaults tend to have lower balance than the people who have higher balance. "
      ],
      "attachments":{
        
      },
      "metadata":{
        
      }
    },
    {
      "cell_type":"code",
      "source":[
        "pd.crosstab(df['student'],df['default'],normalize= 'index').round(2)"
      ],
      "execution_count":97,
      "outputs":[
        {
          "data":{
            "text\/html":[
              "<div>\n",
              "<style scoped>\n",
              "    .dataframe tbody tr th:only-of-type {\n",
              "        vertical-align: middle;\n",
              "    }\n",
              "\n",
              "    .dataframe tbody tr th {\n",
              "        vertical-align: top;\n",
              "    }\n",
              "\n",
              "    .dataframe thead th {\n",
              "        text-align: right;\n",
              "    }\n",
              "<\/style>\n",
              "<table border=\"1\" class=\"dataframe\">\n",
              "  <thead>\n",
              "    <tr style=\"text-align: right;\">\n",
              "      <th>default<\/th>\n",
              "      <th>0<\/th>\n",
              "      <th>1<\/th>\n",
              "    <\/tr>\n",
              "    <tr>\n",
              "      <th>student<\/th>\n",
              "      <th><\/th>\n",
              "      <th><\/th>\n",
              "    <\/tr>\n",
              "  <\/thead>\n",
              "  <tbody>\n",
              "    <tr>\n",
              "      <th>0<\/th>\n",
              "      <td>0.97<\/td>\n",
              "      <td>0.03<\/td>\n",
              "    <\/tr>\n",
              "    <tr>\n",
              "      <th>1<\/th>\n",
              "      <td>0.96<\/td>\n",
              "      <td>0.04<\/td>\n",
              "    <\/tr>\n",
              "  <\/tbody>\n",
              "<\/table>\n",
              "<\/div>"
            ]
          },
          "metadata":{
            
          },
          "output_type":"display_data"
        }
      ],
      "metadata":{
        
      }
    },
    {
      "cell_type":"code",
      "source":[
        "sns.heatmap(df[['balance','income']].corr(),annot = True)"
      ],
      "execution_count":69,
      "outputs":[
        {
          "data":{
            "text\/plain":[
              "<AxesSubplot:>"
            ],
            "image\/png":"[encoded data removed]"
          },
          "metadata":{
            "image\/png":{
              
            }
          },
          "output_type":"display_data"
        }
      ],
      "metadata":{
        
      }
    },
    {
      "cell_type":"markdown",
      "source":[
        "No relation between income and balance "
      ],
      "attachments":{
        
      },
      "metadata":{
        
      }
    },
    {
      "cell_type":"markdown",
      "source":[
        "**NOTE :** We need to remove outliers whenever a model is to be built.\n",
        "\n",
        "So, lets analyse the outliers and find which values are to be called outliers."
      ],
      "attachments":{
        
      },
      "metadata":{
        
      }
    },
    {
      "cell_type":"code",
      "source":[
        "#CALCULATING FIRST AND THIRD QUARTILES\n",
        "\n",
        "Q1,Q3 = df['balance'].quantile([.25,.75])\n",
        "IQR = Q3 - Q1\n",
        "LL = Q1 - (1.5*IQR)\n",
        "UL = Q3 + (1.5*IQR)"
      ],
      "execution_count":70,
      "outputs":[
        
      ],
      "metadata":{
        
      }
    },
    {
      "cell_type":"code",
      "source":[
        "print(\"LL:\",LL)\n",
        "print(\"Q1:\",Q1)\n",
        "print(\"Q3:\",Q3)\n",
        "print(\"UL:\",UL)"
      ],
      "execution_count":71,
      "outputs":[
        {
          "name":"stdout",
          "text":[
            "LL: -545.1348170774612\n",
            "Q1: 481.731105054518\n",
            "Q3: 1166.3083864758376\n",
            "UL: 2193.174308607817\n"
          ],
          "output_type":"stream"
        }
      ],
      "metadata":{
        
      }
    },
    {
      "cell_type":"markdown",
      "source":[
        "Therefore all the values over 2193 are outliers."
      ],
      "attachments":{
        
      },
      "metadata":{
        
      }
    },
    {
      "cell_type":"code",
      "source":[
        "outliers_df = df[df['balance'] > 2193]\n",
        "outliers_df.head()"
      ],
      "execution_count":98,
      "outputs":[
        {
          "data":{
            "text\/html":[
              "<div>\n",
              "<style scoped>\n",
              "    .dataframe tbody tr th:only-of-type {\n",
              "        vertical-align: middle;\n",
              "    }\n",
              "\n",
              "    .dataframe tbody tr th {\n",
              "        vertical-align: top;\n",
              "    }\n",
              "\n",
              "    .dataframe thead th {\n",
              "        text-align: right;\n",
              "    }\n",
              "<\/style>\n",
              "<table border=\"1\" class=\"dataframe\">\n",
              "  <thead>\n",
              "    <tr style=\"text-align: right;\">\n",
              "      <th><\/th>\n",
              "      <th>default<\/th>\n",
              "      <th>student<\/th>\n",
              "      <th>balance<\/th>\n",
              "      <th>income<\/th>\n",
              "    <\/tr>\n",
              "  <\/thead>\n",
              "  <tbody>\n",
              "    <tr>\n",
              "      <th>173<\/th>\n",
              "      <td>1<\/td>\n",
              "      <td>1<\/td>\n",
              "      <td>2193.174309<\/td>\n",
              "      <td>14271.492253<\/td>\n",
              "    <\/tr>\n",
              "    <tr>\n",
              "      <th>1136<\/th>\n",
              "      <td>1<\/td>\n",
              "      <td>0<\/td>\n",
              "      <td>2193.174309<\/td>\n",
              "      <td>51504.293960<\/td>\n",
              "    <\/tr>\n",
              "    <tr>\n",
              "      <th>1160<\/th>\n",
              "      <td>1<\/td>\n",
              "      <td>1<\/td>\n",
              "      <td>2193.174309<\/td>\n",
              "      <td>14947.519752<\/td>\n",
              "    <\/tr>\n",
              "    <tr>\n",
              "      <th>1359<\/th>\n",
              "      <td>1<\/td>\n",
              "      <td>0<\/td>\n",
              "      <td>2193.174309<\/td>\n",
              "      <td>40725.096207<\/td>\n",
              "    <\/tr>\n",
              "    <tr>\n",
              "      <th>1502<\/th>\n",
              "      <td>1<\/td>\n",
              "      <td>1<\/td>\n",
              "      <td>2193.174309<\/td>\n",
              "      <td>11770.234124<\/td>\n",
              "    <\/tr>\n",
              "  <\/tbody>\n",
              "<\/table>\n",
              "<\/div>"
            ]
          },
          "metadata":{
            
          },
          "output_type":"display_data"
        }
      ],
      "metadata":{
        
      }
    },
    {
      "cell_type":"code",
      "source":[
        "outliers_df['default'].count()"
      ],
      "execution_count":99,
      "outputs":[
        {
          "data":{
            "text\/plain":[
              "31"
            ]
          },
          "metadata":{
            
          },
          "output_type":"display_data"
        }
      ],
      "metadata":{
        
      }
    },
    {
      "cell_type":"markdown",
      "source":[
        "Out of 10,000 observations there are 31 observations which are outliers."
      ],
      "attachments":{
        
      },
      "metadata":{
        
      }
    },
    {
      "cell_type":"code",
      "source":[
        "outliers_df['default'].value_counts(normalize=True).round(2)"
      ],
      "execution_count":100,
      "outputs":[
        {
          "data":{
            "text\/html":[
              
            ]
          },
          "metadata":{
            
          },
          "output_type":"display_data"
        }
      ],
      "metadata":{
        
      }
    },
    {
      "cell_type":"markdown",
      "source":[
        "Therefore, For outliers most of the candidates are defaulters. "
      ],
      "attachments":{
        
      },
      "metadata":{
        
      }
    },
    {
      "cell_type":"code",
      "source":[
        "outliers_df['default'].value_counts()"
      ],
      "execution_count":101,
      "outputs":[
        {
          "data":{
            "text\/html":[
              
            ]
          },
          "metadata":{
            
          },
          "output_type":"display_data"
        }
      ],
      "metadata":{
        
      }
    },
    {
      "cell_type":"markdown",
      "source":[
        "Out of 31, 26 are defaulters. But in our original data set there are only 303 defaulters.\n",
        "\n",
        "For outliers we are changing the balance and setting it equal to the upper limit which is 2193."
      ],
      "attachments":{
        
      },
      "metadata":{
        
      }
    },
    {
      "cell_type":"code",
      "source":[
        "df['balance'] = np.where(df['balance'] > UL, UL, df['balance'])"
      ],
      "execution_count":76,
      "outputs":[
        
      ],
      "metadata":{
        
      }
    },
    {
      "cell_type":"code",
      "source":[
        "sns.boxplot(y=df['balance'])"
      ],
      "execution_count":77,
      "outputs":[
        {
          "data":{
            "text\/plain":[
              "<AxesSubplot:ylabel='balance'>"
            ],
            "image\/png":"[encoded data removed]"
          },
          "metadata":{
            "image\/png":{
              
            }
          },
          "output_type":"display_data"
        }
      ],
      "metadata":{
        
      }
    },
    {
      "cell_type":"markdown",
      "source":[
        "As we can see we have successfully removed the outliers from our data set"
      ],
      "attachments":{
        
      },
      "metadata":{
        
      }
    },
    {
      "cell_type":"code",
      "source":[
        "df.head()"
      ],
      "execution_count":102,
      "outputs":[
        {
          "data":{
            "text\/html":[
              "<div>\n",
              "<style scoped>\n",
              "    .dataframe tbody tr th:only-of-type {\n",
              "        vertical-align: middle;\n",
              "    }\n",
              "\n",
              "    .dataframe tbody tr th {\n",
              "        vertical-align: top;\n",
              "    }\n",
              "\n",
              "    .dataframe thead th {\n",
              "        text-align: right;\n",
              "    }\n",
              "<\/style>\n",
              "<table border=\"1\" class=\"dataframe\">\n",
              "  <thead>\n",
              "    <tr style=\"text-align: right;\">\n",
              "      <th><\/th>\n",
              "      <th>default<\/th>\n",
              "      <th>student<\/th>\n",
              "      <th>balance<\/th>\n",
              "      <th>income<\/th>\n",
              "    <\/tr>\n",
              "  <\/thead>\n",
              "  <tbody>\n",
              "    <tr>\n",
              "      <th>0<\/th>\n",
              "      <td>0<\/td>\n",
              "      <td>0<\/td>\n",
              "      <td>729.526495<\/td>\n",
              "      <td>44361.625074<\/td>\n",
              "    <\/tr>\n",
              "    <tr>\n",
              "      <th>1<\/th>\n",
              "      <td>0<\/td>\n",
              "      <td>1<\/td>\n",
              "      <td>817.180407<\/td>\n",
              "      <td>12106.134700<\/td>\n",
              "    <\/tr>\n",
              "    <tr>\n",
              "      <th>2<\/th>\n",
              "      <td>0<\/td>\n",
              "      <td>0<\/td>\n",
              "      <td>1073.549164<\/td>\n",
              "      <td>31767.138947<\/td>\n",
              "    <\/tr>\n",
              "    <tr>\n",
              "      <th>3<\/th>\n",
              "      <td>0<\/td>\n",
              "      <td>0<\/td>\n",
              "      <td>529.250605<\/td>\n",
              "      <td>35704.493935<\/td>\n",
              "    <\/tr>\n",
              "    <tr>\n",
              "      <th>4<\/th>\n",
              "      <td>0<\/td>\n",
              "      <td>0<\/td>\n",
              "      <td>785.655883<\/td>\n",
              "      <td>38463.495879<\/td>\n",
              "    <\/tr>\n",
              "  <\/tbody>\n",
              "<\/table>\n",
              "<\/div>"
            ]
          },
          "metadata":{
            
          },
          "output_type":"display_data"
        }
      ],
      "metadata":{
        
      }
    },
    {
      "cell_type":"code",
      "source":[
        "from sklearn.model_selection import train_test_split"
      ],
      "execution_count":79,
      "outputs":[
        
      ],
      "metadata":{
        
      }
    },
    {
      "cell_type":"code",
      "source":[
        "X = df.drop('default',axis=1) #Except default all three columns are selected\n",
        "y = df.default "
      ],
      "execution_count":80,
      "outputs":[
        
      ],
      "metadata":{
        
      }
    },
    {
      "cell_type":"code",
      "source":[
        "X_train,X_test,y_train,y_test = train_test_split(X,y,test_size=0.3,random_state=21,stratify=y) #--> Stratify is yes because the number of defaulters in training set will be equal to the number of defaulters in train set."
      ],
      "execution_count":81,
      "outputs":[
        
      ],
      "metadata":{
        
      }
    },
    {
      "cell_type":"code",
      "source":[
        "print(X_train.shape)\n",
        "print(X_test.shape)"
      ],
      "execution_count":82,
      "outputs":[
        {
          "name":"stdout",
          "text":[
            "(7000, 3)\n",
            "(3000, 3)\n"
          ],
          "output_type":"stream"
        }
      ],
      "metadata":{
        
      }
    },
    {
      "cell_type":"code",
      "source":[
        "print(y_train.value_counts(normalize=True).round(2))\n",
        "print(y_test.value_counts(normalize=True).round(2))"
      ],
      "execution_count":83,
      "outputs":[
        {
          "name":"stdout",
          "text":[
            "0    0.97\n",
            "1    0.03\n",
            "Name: default, dtype: float64\n",
            "0    0.97\n",
            "1    0.03\n",
            "Name: default, dtype: float64\n"
          ],
          "output_type":"stream"
        }
      ],
      "metadata":{
        
      }
    },
    {
      "cell_type":"markdown",
      "source":[
        "We have stratified the datasets that is number of defaulters in training and testing datasests remain same."
      ],
      "attachments":{
        
      },
      "metadata":{
        
      }
    },
    {
      "cell_type":"code",
      "source":[
        "!pip install imblearn"
      ],
      "execution_count":84,
      "outputs":[
        {
          "name":"stdout",
          "text":[
            "Requirement already satisfied: imblearn in \/opt\/python\/envs\/default\/lib\/python3.8\/site-packages (0.0)\r\n",
            "Requirement already satisfied: imbalanced-learn in \/opt\/python\/envs\/default\/lib\/python3.8\/site-packages (from imblearn) (0.8.1)\r\n",
            "Requirement already satisfied: joblib>=0.11 in \/opt\/python\/envs\/default\/lib\/python3.8\/site-packages (from imbalanced-learn->imblearn) (1.1.0)\r\n",
            "Requirement already satisfied: numpy>=1.13.3 in \/opt\/python\/envs\/default\/lib\/python3.8\/site-packages (from imbalanced-learn->imblearn) (1.19.5)\r\n",
            "Requirement already satisfied: scipy>=0.19.1 in \/opt\/python\/envs\/default\/lib\/python3.8\/site-packages (from imbalanced-learn->imblearn) (1.7.1)\r\n",
            "Requirement already satisfied: scikit-learn>=0.24 in \/opt\/python\/envs\/default\/lib\/python3.8\/site-packages (from imbalanced-learn->imblearn) (1.0)\r\n",
            "Requirement already satisfied: threadpoolctl>=2.0.0 in \/opt\/python\/envs\/default\/lib\/python3.8\/site-packages (from scikit-learn>=0.24->imbalanced-learn->imblearn) (3.0.0)\r\n"
          ],
          "output_type":"stream"
        }
      ],
      "metadata":{
        
      }
    },
    {
      "cell_type":"code",
      "source":[
        "#from imblearn.over_sampling import SMOTE\n",
        "#sm = SMOTE(random_state = 33,sampling_strategy = 0.75)\n",
        "#X_res,y_res = sm.fit_sample(X_train,y_train)"
      ],
      "execution_count":85,
      "outputs":[
        {
          "ename":"AttributeError",
          "evalue":"AttributeError: 'SMOTE' object has no attribute 'fit_sample'",
          "traceback":[
            "\u001b[0;31m---------------------------------------------------------------------------",
            "Traceback (most recent call last)",
            "    at line 3 in <module>",
            "AttributeError: 'SMOTE' object has no attribute 'fit_sample'"
          ],
          "output_type":"error"
        }
      ],
      "metadata":{
        
      }
    },
    {
      "cell_type":"code",
      "source":[
        "from sklearn.linear_model import LogisticRegression"
      ],
      "execution_count":86,
      "outputs":[
        
      ],
      "metadata":{
        
      }
    },
    {
      "cell_type":"code",
      "source":[
        "lr = LogisticRegression()"
      ],
      "execution_count":87,
      "outputs":[
        
      ],
      "metadata":{
        
      }
    },
    {
      "cell_type":"code",
      "source":[
        "lr.fit(X_train,y_train)"
      ],
      "execution_count":88,
      "outputs":[
        {
          "data":{
            "text\/plain":[
              "LogisticRegression()"
            ]
          },
          "metadata":{
            
          },
          "output_type":"display_data"
        }
      ],
      "metadata":{
        
      }
    },
    {
      "cell_type":"code",
      "source":[
        "y_pred = lr.predict(X_test)"
      ],
      "execution_count":89,
      "outputs":[
        
      ],
      "metadata":{
        
      }
    },
    {
      "cell_type":"code",
      "source":[
        "from sklearn.metrics import confusion_matrix,classification_report"
      ],
      "execution_count":90,
      "outputs":[
        
      ],
      "metadata":{
        
      }
    },
    {
      "cell_type":"code",
      "source":[
        "confusion_matrix(y_test,y_pred)"
      ],
      "execution_count":91,
      "outputs":[
        {
          "data":{
            "text\/html":[
              
            ]
          },
          "metadata":{
            
          },
          "output_type":"display_data"
        }
      ],
      "metadata":{
        
      }
    },
    {
      "cell_type":"code",
      "source":[
        "print(\"The accuracy of our model is :\", (2889+34)\/(2889+34+66+11)*100,\"%\")"
      ],
      "execution_count":96,
      "outputs":[
        {
          "name":"stdout",
          "text":[
            "The accuracy of our model is : 97.43333333333334 %\n"
          ],
          "output_type":"stream"
        }
      ],
      "metadata":{
        
      }
    }
  ],
  "metadata":{
    
  },
  "nbformat":4,
  "nbformat_minor":0
}