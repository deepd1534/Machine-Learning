{
  "cells":[
    {
      "cell_type":"markdown",
      "source":[
        "# Linear Regression - A Case Study"
      ],
      "attachments":{
        
      },
      "metadata":{
        
      }
    },
    {
      "cell_type":"markdown",
      "source":[
        "***Let us say that you are conducting a case study on a set of college students to understand if students with high CGPA also get high GRE score.***\n",
        "\n",
        "We will create a table which would contain two columns - CGPA and the GRE score. We would plot them to find the relationship between them, we would draw a scatterplot and then we would be able to find that high CGPA does lead to high GRE scores.\n",
        "But what if the question is changed.\n",
        "\n",
        "If the CGPA of the student is 8.3 then what would be the GRE score of the student?\n",
        "\n",
        "This is why we need regression analysis.\n",
        "\n",
        "**REGRESSION ANALYSIS : Regression analysis helps us to understand the relationship between two or more variables by creating a predictive model.**\n",
        "\n",
        "\n",
        "$Y = F(x)$\n",
        "\n",
        "Here, Y the GRE score is the dependent variable and x the CGPA is independent variable.\n",
        "\n",
        "Now we want to find the GRE Score (Y), where x (CGPA) is given.\n",
        "Therefore, Y is a function of x. Thus we use regression analysis.\n",
        "\n",
        "****LINEAR REGRESSION :** Linear regression is a predictive model used for finding the *linear* relationship between a dependent variable and one or more independent variables.**\n",
        "\n",
        "$Y = a +bx$\n",
        "\n",
        "The dependent variable (Y) is continuous in linear regression, (No categories) \n",
        "This is called linear regression because the straight line is linear according to the equation.\n",
        "\n",
        "So, if we want to find the GRE Score of a student we can find it using linear regression.\n"
      ],
      "attachments":{
        
      },
      "metadata":{
        
      }
    },
    {
      "cell_type":"markdown",
      "source":[
        "<img src = \".\/LinearRegression.png\" >"
      ],
      "attachments":{
        
      },
      "metadata":{
        
      }
    },
    {
      "cell_type":"markdown",
      "source":[
        "As shown in the above diagram we can find out the GRE score by drawing a vertical line from X, then find the corresponding Y value.\n",
        "\n",
        "But the problem is that there can be infinite best fit lines that can pass through our data points. How do we actually find the best fit line?\n",
        "\n",
        "### Measure of Good fit\n",
        "<img src = \".\/Lr.png\"> \n",
        "\n",
        "As we can see in the diagram above, When the value of x is 2, The predicted value is 2.3 whereas the actual value is 5.\n",
        "Similarly,when the value of x is 4 the predicted value is 5 whereas the actual value is 2.\n",
        "\n",
        "Our goal is to minimize the error to the extent possible (Residual) which can be calculated as Y actual - Y predicted for each data point, we need to square the difference and sum it up.\n",
        "The minimum the residual score the better the fit.\n",
        "\n",
        "By doing the above we would be able to find a line which fits the best.\n"
      ],
      "attachments":{
        
      },
      "metadata":{
        
      }
    },
    {
      "cell_type":"markdown",
      "source":[
        "<img src = 'lr2.png'>\n",
        "\n",
        "As we know, the equation of a straight line is $Y=mx+c$ where m is the slope of the line and c is y-intercept, since we know the m and x we can write the equation of the line.\n",
        "\n",
        "$GRE = 6.8CGPA + 261$\n",
        "\n",
        "Our question was to find the GRE score for CGPA 8.3, if we substitute 8.3 in the above equation, we get $GRE=261+6.8(8.32)$ which is equal to $317.57$\n",
        "\n",
        "**MULTIPLE LINEAR REGRESSION : In multiple linear regression we have one dependent variable and more than one independent variables.**\n",
        "\n",
        "\n",
        "$Y=ax1 + bx2 + cx3 + dx4+ e$"
      ],
      "attachments":{
        
      },
      "metadata":{
        
      }
    },
    {
      "cell_type":"markdown",
      "source":[
        "# IMPLEMENTATION"
      ],
      "attachments":{
        
      },
      "metadata":{
        
      }
    },
    {
      "cell_type":"code",
      "source":[
        "import numpy as np,pandas as pd,matplotlib.pyplot as plt,seaborn as sns"
      ],
      "execution_count":4,
      "outputs":[
        
      ],
      "metadata":{
        
      }
    },
    {
      "cell_type":"code",
      "source":[
        "#LOADING IRIS DATASET \n",
        "\n",
        "df = pd.read_csv('https:\/\/raw.githubusercontent.com\/uiuc-cse\/data-fa14\/gh-pages\/data\/iris.csv')"
      ],
      "execution_count":2,
      "outputs":[
        
      ],
      "metadata":{
        
      }
    },
    {
      "cell_type":"code",
      "source":[
        "df.head()"
      ],
      "execution_count":3,
      "outputs":[
        {
          "data":{
            "text\/html":[
              "<div>\n",
              "<style scoped>\n",
              "    .dataframe tbody tr th:only-of-type {\n",
              "        vertical-align: middle;\n",
              "    }\n",
              "\n",
              "    .dataframe tbody tr th {\n",
              "        vertical-align: top;\n",
              "    }\n",
              "\n",
              "    .dataframe thead th {\n",
              "        text-align: right;\n",
              "    }\n",
              "<\/style>\n",
              "<table border=\"1\" class=\"dataframe\">\n",
              "  <thead>\n",
              "    <tr style=\"text-align: right;\">\n",
              "      <th><\/th>\n",
              "      <th>sepal_length<\/th>\n",
              "      <th>sepal_width<\/th>\n",
              "      <th>petal_length<\/th>\n",
              "      <th>petal_width<\/th>\n",
              "      <th>species<\/th>\n",
              "    <\/tr>\n",
              "  <\/thead>\n",
              "  <tbody>\n",
              "    <tr>\n",
              "      <th>0<\/th>\n",
              "      <td>5.1<\/td>\n",
              "      <td>3.5<\/td>\n",
              "      <td>1.4<\/td>\n",
              "      <td>0.2<\/td>\n",
              "      <td>setosa<\/td>\n",
              "    <\/tr>\n",
              "    <tr>\n",
              "      <th>1<\/th>\n",
              "      <td>4.9<\/td>\n",
              "      <td>3.0<\/td>\n",
              "      <td>1.4<\/td>\n",
              "      <td>0.2<\/td>\n",
              "      <td>setosa<\/td>\n",
              "    <\/tr>\n",
              "    <tr>\n",
              "      <th>2<\/th>\n",
              "      <td>4.7<\/td>\n",
              "      <td>3.2<\/td>\n",
              "      <td>1.3<\/td>\n",
              "      <td>0.2<\/td>\n",
              "      <td>setosa<\/td>\n",
              "    <\/tr>\n",
              "    <tr>\n",
              "      <th>3<\/th>\n",
              "      <td>4.6<\/td>\n",
              "      <td>3.1<\/td>\n",
              "      <td>1.5<\/td>\n",
              "      <td>0.2<\/td>\n",
              "      <td>setosa<\/td>\n",
              "    <\/tr>\n",
              "    <tr>\n",
              "      <th>4<\/th>\n",
              "      <td>5.0<\/td>\n",
              "      <td>3.6<\/td>\n",
              "      <td>1.4<\/td>\n",
              "      <td>0.2<\/td>\n",
              "      <td>setosa<\/td>\n",
              "    <\/tr>\n",
              "  <\/tbody>\n",
              "<\/table>\n",
              "<\/div>"
            ]
          },
          "metadata":{
            
          },
          "output_type":"display_data"
        }
      ],
      "metadata":{
        
      }
    },
    {
      "cell_type":"code",
      "source":[
        "sns.set_style(\"whitegrid\")\n",
        "sns.scatterplot(x = 'sepal_length',y='petal_length',data = df, hue = \"species\")\n",
        "plt.show()"
      ],
      "execution_count":9,
      "outputs":[
        {
          "data":{
            "image\/png":"[encoded data removed]"
          },
          "metadata":{
            "image\/png":{
              
            }
          },
          "output_type":"display_data"
        }
      ],
      "metadata":{
        
      }
    },
    {
      "cell_type":"code",
      "source":[
        "# BEFORE APPLYING LINEAR REGRSSION ALGORITHM WE NEED TO DIVIDE THE DATASET INTO TRAINING AND TESTING DATASETS (sepal length is dependent upon sepal width.)\n",
        "\n",
        "y = df[['sepal_length']]\n",
        "x = df[['sepal_width']]\n"
      ],
      "execution_count":16,
      "outputs":[
        
      ],
      "metadata":{
        
      }
    },
    {
      "cell_type":"code",
      "source":[
        "from sklearn.model_selection import train_test_split"
      ],
      "execution_count":17,
      "outputs":[
        
      ],
      "metadata":{
        
      }
    },
    {
      "cell_type":"code",
      "source":[
        "x_train,x_test,y_train,y_test = train_test_split(x,y,test_size=0.3)"
      ],
      "execution_count":18,
      "outputs":[
        
      ],
      "metadata":{
        
      }
    },
    {
      "cell_type":"code",
      "source":[
        "from sklearn.linear_model import LinearRegression\n",
        "lr = LinearRegression()\n",
        "lr.fit(x_train,y_train)"
      ],
      "execution_count":19,
      "outputs":[
        {
          "data":{
            "text\/plain":[
              "LinearRegression()"
            ]
          },
          "metadata":{
            
          },
          "output_type":"display_data"
        }
      ],
      "metadata":{
        
      }
    },
    {
      "cell_type":"code",
      "source":[
        "y_pred = lr.predict(x_test)"
      ],
      "execution_count":22,
      "outputs":[
        
      ],
      "metadata":{
        
      }
    },
    {
      "cell_type":"code",
      "source":[
        "lr.predict([[3.2]])"
      ],
      "execution_count":26,
      "outputs":[
        {
          "name":"stderr",
          "text":[
            "\/opt\/python\/envs\/default\/lib\/python3.8\/site-packages\/sklearn\/base.py:441: UserWarning: X does not have valid feature names, but LinearRegression was fitted with feature names\n",
            "  warnings.warn(\n"
          ],
          "output_type":"stream"
        },
        {
          "data":{
            "text\/html":[
              
            ]
          },
          "metadata":{
            
          },
          "output_type":"display_data"
        }
      ],
      "metadata":{
        
      }
    },
    {
      "cell_type":"code",
      "source":[
        "from sklearn.metrics import mean_squared_error\n",
        "\n",
        "mean_squared_error(y_test,y_pred)"
      ],
      "execution_count":24,
      "outputs":[
        {
          "data":{
            "text\/plain":[
              "0.6200437717517917"
            ]
          },
          "metadata":{
            
          },
          "output_type":"display_data"
        }
      ],
      "metadata":{
        
      }
    }
  ],
  "metadata":{
    
  },
  "nbformat":4,
  "nbformat_minor":0
}