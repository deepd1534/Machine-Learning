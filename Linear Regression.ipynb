{
 "cells":[
  {
   "cell_type":"code",
   "source":[
    "import numpy as np\n",
    "import pandas as pd\n",
    "import matplotlib.pyplot as plt\n",
    "import seaborn as sns\n",
    "\n",
    "from numpy import math\n",
    "\n",
    "from sklearn.preprocessing import MinMaxScaler\n",
    "from sklearn.model_selection import train_test_split\n",
    "from sklearn.linear_model import LinearRegression\n",
    "from sklearn.metrics import r2_score\n",
    "from sklearn.metrics import mean_squared_error"
   ],
   "execution_count":24,
   "outputs":[
    
   ],
   "metadata":{
    "datalore":{
     "type":"CODE",
     "hide_input_from_viewers":false,
     "hide_output_from_viewers":false,
     "node_id":"kP1XBLHVDG2UH2qVzr2Fui"
    }
   }
  },
  {
   "cell_type":"code",
   "source":[
    "df = pd.read_csv('.\/50_Startups.csv')"
   ],
   "execution_count":6,
   "outputs":[
    
   ],
   "metadata":{
    "datalore":{
     "type":"CODE",
     "hide_input_from_viewers":false,
     "hide_output_from_viewers":false,
     "node_id":"Lif4axcTneUmdEvzhB1w35"
    }
   }
  },
  {
   "cell_type":"code",
   "source":[
    "df.head()"
   ],
   "execution_count":7,
   "outputs":[
    {
     "data":{
      "text\/html":[
       "<div>\n",
       "<style scoped>\n",
       "    .dataframe tbody tr th:only-of-type {\n",
       "        vertical-align: middle;\n",
       "    }\n",
       "\n",
       "    .dataframe tbody tr th {\n",
       "        vertical-align: top;\n",
       "    }\n",
       "\n",
       "    .dataframe thead th {\n",
       "        text-align: right;\n",
       "    }\n",
       "<\/style>\n",
       "<table border=\"1\" class=\"dataframe\">\n",
       "  <thead>\n",
       "    <tr style=\"text-align: right;\">\n",
       "      <th><\/th>\n",
       "      <th>R&amp;D Spend<\/th>\n",
       "      <th>Administration<\/th>\n",
       "      <th>Marketing Spend<\/th>\n",
       "      <th>State<\/th>\n",
       "      <th>Profit<\/th>\n",
       "    <\/tr>\n",
       "  <\/thead>\n",
       "  <tbody>\n",
       "    <tr>\n",
       "      <th>0<\/th>\n",
       "      <td>165349.20<\/td>\n",
       "      <td>136897.80<\/td>\n",
       "      <td>471784.10<\/td>\n",
       "      <td>New York<\/td>\n",
       "      <td>192261.83<\/td>\n",
       "    <\/tr>\n",
       "    <tr>\n",
       "      <th>1<\/th>\n",
       "      <td>162597.70<\/td>\n",
       "      <td>151377.59<\/td>\n",
       "      <td>443898.53<\/td>\n",
       "      <td>California<\/td>\n",
       "      <td>191792.06<\/td>\n",
       "    <\/tr>\n",
       "    <tr>\n",
       "      <th>2<\/th>\n",
       "      <td>153441.51<\/td>\n",
       "      <td>101145.55<\/td>\n",
       "      <td>407934.54<\/td>\n",
       "      <td>Florida<\/td>\n",
       "      <td>191050.39<\/td>\n",
       "    <\/tr>\n",
       "    <tr>\n",
       "      <th>3<\/th>\n",
       "      <td>144372.41<\/td>\n",
       "      <td>118671.85<\/td>\n",
       "      <td>383199.62<\/td>\n",
       "      <td>New York<\/td>\n",
       "      <td>182901.99<\/td>\n",
       "    <\/tr>\n",
       "    <tr>\n",
       "      <th>4<\/th>\n",
       "      <td>142107.34<\/td>\n",
       "      <td>91391.77<\/td>\n",
       "      <td>366168.42<\/td>\n",
       "      <td>Florida<\/td>\n",
       "      <td>166187.94<\/td>\n",
       "    <\/tr>\n",
       "  <\/tbody>\n",
       "<\/table>\n",
       "<\/div>"
      ]
     },
     "metadata":{
      
     },
     "output_type":"display_data"
    }
   ],
   "metadata":{
    "datalore":{
     "type":"CODE",
     "hide_input_from_viewers":false,
     "hide_output_from_viewers":false,
     "node_id":"pUIEfFaHHc3bXgya1iybZA"
    }
   }
  },
  {
   "cell_type":"code",
   "source":[
    "df.shape"
   ],
   "execution_count":8,
   "outputs":[
    {
     "data":{
      "text\/plain":[
       "(50, 5)"
      ]
     },
     "metadata":{
      
     },
     "output_type":"display_data"
    }
   ],
   "metadata":{
    "datalore":{
     "type":"CODE",
     "hide_input_from_viewers":false,
     "hide_output_from_viewers":false,
     "node_id":"Agr8iHAilvEFVCpukZIqmQ"
    }
   }
  },
  {
   "cell_type":"code",
   "source":[
    "plt.scatter(df['Marketing Spend'],df['Profit'])\n",
    "plt.xlabel('Marketing Spend')\n",
    "plt.ylabel('Profit')"
   ],
   "execution_count":11,
   "outputs":[
    {
     "data":{
      "text\/plain":[
       "Text(0, 0.5, 'Profit')"
      ]
     },
     "metadata":{
      
     },
     "output_type":"display_data"
    },
    {
     "data":{
      "image\/png":"[encoded data removed]"
     },
     "metadata":{
      "image\/png":{
       
      }
     },
     "output_type":"display_data"
    }
   ],
   "metadata":{
    "datalore":{
     "type":"CODE",
     "hide_input_from_viewers":false,
     "hide_output_from_viewers":false,
     "node_id":"uwD0EzfNBDYoQ6hS70pc14"
    }
   }
  },
  {
   "cell_type":"markdown",
   "source":[
    "From the above plot, we can say that Marketing Spend is partially correlated with Profit."
   ],
   "attachments":{
    
   },
   "metadata":{
    "datalore":{
     "type":"MD",
     "hide_input_from_viewers":false,
     "hide_output_from_viewers":false,
     "node_id":"WdYqrBpFBPak4BJv94Soh0"
    }
   }
  },
  {
   "cell_type":"code",
   "source":[
    "plt.scatter(df['R&D Spend'],df['Profit'])"
   ],
   "execution_count":12,
   "outputs":[
    {
     "data":{
      "text\/plain":[
       "<matplotlib.collections.PathCollection at 0x7f0555d80250>"
      ]
     },
     "metadata":{
      
     },
     "output_type":"display_data"
    },
    {
     "data":{
      "image\/png":"[encoded data removed]"
     },
     "metadata":{
      "image\/png":{
       
      }
     },
     "output_type":"display_data"
    }
   ],
   "metadata":{
    "datalore":{
     "type":"CODE",
     "hide_input_from_viewers":false,
     "hide_output_from_viewers":false,
     "node_id":"v8rgwDRDr3uEuv3iudz8XE"
    }
   }
  },
  {
   "cell_type":"markdown",
   "source":[
    "From the above plot, we can say that R&D spend is strongly correlated with Profit."
   ],
   "attachments":{
    
   },
   "metadata":{
    "datalore":{
     "type":"MD",
     "hide_input_from_viewers":false,
     "hide_output_from_viewers":false,
     "node_id":"ELONWTYfrEaNhRwTwDu2Uk"
    }
   }
  },
  {
   "cell_type":"code",
   "source":[
    "plt.scatter(df['Administration'],df['Profit'])"
   ],
   "execution_count":13,
   "outputs":[
    {
     "data":{
      "text\/plain":[
       "<matplotlib.collections.PathCollection at 0x7f0555f3ae80>"
      ]
     },
     "metadata":{
      
     },
     "output_type":"display_data"
    },
    {
     "data":{
      "image\/png":"[encoded data removed]"
     },
     "metadata":{
      "image\/png":{
       
      }
     },
     "output_type":"display_data"
    }
   ],
   "metadata":{
    "datalore":{
     "type":"CODE",
     "hide_input_from_viewers":false,
     "hide_output_from_viewers":false,
     "node_id":"z8gmArSdk6QIK0cbPaOQ1g"
    }
   }
  },
  {
   "cell_type":"markdown",
   "source":[
    "Administration in any way does not drive the profit."
   ],
   "attachments":{
    
   },
   "metadata":{
    "datalore":{
     "type":"MD",
     "hide_input_from_viewers":false,
     "hide_output_from_viewers":false,
     "node_id":"RGIMvLndBjFiMroUwwbg0p"
    }
   }
  },
  {
   "cell_type":"code",
   "source":[
    "df.corr()"
   ],
   "execution_count":15,
   "outputs":[
    {
     "data":{
      "text\/html":[
       "<div>\n",
       "<style scoped>\n",
       "    .dataframe tbody tr th:only-of-type {\n",
       "        vertical-align: middle;\n",
       "    }\n",
       "\n",
       "    .dataframe tbody tr th {\n",
       "        vertical-align: top;\n",
       "    }\n",
       "\n",
       "    .dataframe thead th {\n",
       "        text-align: right;\n",
       "    }\n",
       "<\/style>\n",
       "<table border=\"1\" class=\"dataframe\">\n",
       "  <thead>\n",
       "    <tr style=\"text-align: right;\">\n",
       "      <th><\/th>\n",
       "      <th>R&amp;D Spend<\/th>\n",
       "      <th>Administration<\/th>\n",
       "      <th>Marketing Spend<\/th>\n",
       "      <th>Profit<\/th>\n",
       "    <\/tr>\n",
       "  <\/thead>\n",
       "  <tbody>\n",
       "    <tr>\n",
       "      <th>R&amp;D Spend<\/th>\n",
       "      <td>1.000000<\/td>\n",
       "      <td>0.241955<\/td>\n",
       "      <td>0.724248<\/td>\n",
       "      <td>0.972900<\/td>\n",
       "    <\/tr>\n",
       "    <tr>\n",
       "      <th>Administration<\/th>\n",
       "      <td>0.241955<\/td>\n",
       "      <td>1.000000<\/td>\n",
       "      <td>-0.032154<\/td>\n",
       "      <td>0.200717<\/td>\n",
       "    <\/tr>\n",
       "    <tr>\n",
       "      <th>Marketing Spend<\/th>\n",
       "      <td>0.724248<\/td>\n",
       "      <td>-0.032154<\/td>\n",
       "      <td>1.000000<\/td>\n",
       "      <td>0.747766<\/td>\n",
       "    <\/tr>\n",
       "    <tr>\n",
       "      <th>Profit<\/th>\n",
       "      <td>0.972900<\/td>\n",
       "      <td>0.200717<\/td>\n",
       "      <td>0.747766<\/td>\n",
       "      <td>1.000000<\/td>\n",
       "    <\/tr>\n",
       "  <\/tbody>\n",
       "<\/table>\n",
       "<\/div>"
      ]
     },
     "metadata":{
      
     },
     "output_type":"display_data"
    }
   ],
   "metadata":{
    "datalore":{
     "type":"CODE",
     "hide_input_from_viewers":false,
     "hide_output_from_viewers":false,
     "node_id":"US9KdMjw7JQM86W5SmflFT"
    }
   }
  },
  {
   "cell_type":"code",
   "source":[
    "ax = df.groupby(['State'])['Profit'].mean().plot.bar(\n",
    "    figsize = (10, 5),\n",
    "    fontsize = 14\n",
    ")\n",
    "\n",
    "ax.set_title(\"Average Profit for different states\")"
   ],
   "execution_count":21,
   "outputs":[
    {
     "data":{
      "text\/plain":[
       "Text(0.5, 1.0, 'Average Profit for different states')"
      ]
     },
     "metadata":{
      
     },
     "output_type":"display_data"
    },
    {
     "data":{
      "image\/png":"[encoded data removed]"
     },
     "metadata":{
      "image\/png":{
       
      }
     },
     "output_type":"display_data"
    }
   ],
   "metadata":{
    "datalore":{
     "type":"CODE",
     "hide_input_from_viewers":false,
     "hide_output_from_viewers":false,
     "node_id":"APAfOHvtCMQi5IogumLaLR"
    }
   }
  },
  {
   "cell_type":"code",
   "source":[
    "df['State'].value_counts()"
   ],
   "execution_count":22,
   "outputs":[
    {
     "data":{
      "text\/html":[
       
      ]
     },
     "metadata":{
      
     },
     "output_type":"display_data"
    }
   ],
   "metadata":{
    "datalore":{
     "type":"CODE",
     "hide_input_from_viewers":false,
     "hide_output_from_viewers":false,
     "node_id":"7pN6gg5eFtvV2UVuMmdtKE"
    }
   }
  },
  {
   "cell_type":"code",
   "source":[
    "sns.countplot(df['State'])"
   ],
   "execution_count":26,
   "outputs":[
    {
     "name":"stderr",
     "text":[
      "\/opt\/python\/envs\/default\/lib\/python3.8\/site-packages\/seaborn\/_decorators.py:36: FutureWarning: Pass the following variable as a keyword arg: x. From version 0.12, the only valid positional argument will be `data`, and passing other arguments without an explicit keyword will result in an error or misinterpretation.\n",
      "  warnings.warn(\n"
     ],
     "output_type":"stream"
    },
    {
     "data":{
      "text\/plain":[
       "<AxesSubplot:xlabel='State', ylabel='count'>"
      ]
     },
     "metadata":{
      
     },
     "output_type":"display_data"
    },
    {
     "data":{
      "image\/png":"[encoded data removed]"
     },
     "metadata":{
      "image\/png":{
       
      }
     },
     "output_type":"display_data"
    }
   ],
   "metadata":{
    "datalore":{
     "type":"CODE",
     "hide_input_from_viewers":false,
     "hide_output_from_viewers":false,
     "node_id":"2FR6Mjk0aePSTODtTAB7Am"
    }
   }
  },
  {
   "cell_type":"code",
   "source":[
    "#We need to do some treatment for the categorical values"
   ],
   "execution_count":null,
   "outputs":[
    
   ],
   "metadata":{
    "datalore":{
     "type":"CODE",
     "hide_input_from_viewers":false,
     "hide_output_from_viewers":false,
     "node_id":"3hSl461fRLXvRnyxtjoGxx"
    }
   }
  },
  {
   "cell_type":"code",
   "source":[
    "# Create dummy variables for the categorical variable state - ONE HOT ENCODING\n",
    "df['NewYork_State'] = np.where(df['State']=='New York',1,0)\n",
    "df['California_State'] = np.where(df['State']=='California',1,0)\n",
    "df['Florida_State'] = np.where(df['State']=='Florida',1,0)"
   ],
   "execution_count":27,
   "outputs":[
    
   ],
   "metadata":{
    "datalore":{
     "type":"CODE",
     "hide_input_from_viewers":false,
     "hide_output_from_viewers":false,
     "node_id":"OZEn3oYOAH5HNdaXd1XvF5"
    }
   }
  },
  {
   "cell_type":"code",
   "source":[
    "df.drop(columns=['State'],axis=1,inplace = True)"
   ],
   "execution_count":28,
   "outputs":[
    
   ],
   "metadata":{
    "datalore":{
     "type":"CODE",
     "hide_input_from_viewers":false,
     "hide_output_from_viewers":false,
     "node_id":"tRXju1lz6yX9A72jAoCF7x"
    }
   }
  },
  {
   "cell_type":"code",
   "source":[
    "df.head()"
   ],
   "execution_count":29,
   "outputs":[
    {
     "data":{
      "text\/html":[
       "<div>\n",
       "<style scoped>\n",
       "    .dataframe tbody tr th:only-of-type {\n",
       "        vertical-align: middle;\n",
       "    }\n",
       "\n",
       "    .dataframe tbody tr th {\n",
       "        vertical-align: top;\n",
       "    }\n",
       "\n",
       "    .dataframe thead th {\n",
       "        text-align: right;\n",
       "    }\n",
       "<\/style>\n",
       "<table border=\"1\" class=\"dataframe\">\n",
       "  <thead>\n",
       "    <tr style=\"text-align: right;\">\n",
       "      <th><\/th>\n",
       "      <th>R&amp;D Spend<\/th>\n",
       "      <th>Administration<\/th>\n",
       "      <th>Marketing Spend<\/th>\n",
       "      <th>Profit<\/th>\n",
       "      <th>NewYork_State<\/th>\n",
       "      <th>California_State<\/th>\n",
       "      <th>Florida_State<\/th>\n",
       "    <\/tr>\n",
       "  <\/thead>\n",
       "  <tbody>\n",
       "    <tr>\n",
       "      <th>0<\/th>\n",
       "      <td>165349.20<\/td>\n",
       "      <td>136897.80<\/td>\n",
       "      <td>471784.10<\/td>\n",
       "      <td>192261.83<\/td>\n",
       "      <td>1<\/td>\n",
       "      <td>0<\/td>\n",
       "      <td>0<\/td>\n",
       "    <\/tr>\n",
       "    <tr>\n",
       "      <th>1<\/th>\n",
       "      <td>162597.70<\/td>\n",
       "      <td>151377.59<\/td>\n",
       "      <td>443898.53<\/td>\n",
       "      <td>191792.06<\/td>\n",
       "      <td>0<\/td>\n",
       "      <td>1<\/td>\n",
       "      <td>0<\/td>\n",
       "    <\/tr>\n",
       "    <tr>\n",
       "      <th>2<\/th>\n",
       "      <td>153441.51<\/td>\n",
       "      <td>101145.55<\/td>\n",
       "      <td>407934.54<\/td>\n",
       "      <td>191050.39<\/td>\n",
       "      <td>0<\/td>\n",
       "      <td>0<\/td>\n",
       "      <td>1<\/td>\n",
       "    <\/tr>\n",
       "    <tr>\n",
       "      <th>3<\/th>\n",
       "      <td>144372.41<\/td>\n",
       "      <td>118671.85<\/td>\n",
       "      <td>383199.62<\/td>\n",
       "      <td>182901.99<\/td>\n",
       "      <td>1<\/td>\n",
       "      <td>0<\/td>\n",
       "      <td>0<\/td>\n",
       "    <\/tr>\n",
       "    <tr>\n",
       "      <th>4<\/th>\n",
       "      <td>142107.34<\/td>\n",
       "      <td>91391.77<\/td>\n",
       "      <td>366168.42<\/td>\n",
       "      <td>166187.94<\/td>\n",
       "      <td>0<\/td>\n",
       "      <td>0<\/td>\n",
       "      <td>1<\/td>\n",
       "    <\/tr>\n",
       "  <\/tbody>\n",
       "<\/table>\n",
       "<\/div>"
      ]
     },
     "metadata":{
      
     },
     "output_type":"display_data"
    }
   ],
   "metadata":{
    "datalore":{
     "type":"CODE",
     "hide_input_from_viewers":false,
     "hide_output_from_viewers":false,
     "node_id":"R50Pt1oYXxK8RAHAOB4oV5"
    }
   }
  },
  {
   "cell_type":"code",
   "source":[
    "dependent_variable = 'Profit'\n",
    "independent_variables = list(set(df.columns.tolist()) - {dependent_variable})"
   ],
   "execution_count":32,
   "outputs":[
    
   ],
   "metadata":{
    "datalore":{
     "type":"CODE",
     "hide_input_from_viewers":false,
     "hide_output_from_viewers":false,
     "node_id":"4PpcmAaZo6q1mGaYgYhUlO"
    }
   }
  },
  {
   "cell_type":"code",
   "source":[
    "independent_variables"
   ],
   "execution_count":33,
   "outputs":[
    {
     "data":{
      "text\/plain":[
       "['NewYork_State',\n",
       " 'R&D Spend',\n",
       " 'Florida_State',\n",
       " 'Marketing Spend',\n",
       " 'Administration',\n",
       " 'California_State']"
      ]
     },
     "metadata":{
      
     },
     "output_type":"display_data"
    }
   ],
   "metadata":{
    "datalore":{
     "type":"CODE",
     "hide_input_from_viewers":false,
     "hide_output_from_viewers":false,
     "node_id":"Lu4V7HwWqltjR8QEqGb7GF"
    }
   }
  },
  {
   "cell_type":"code",
   "source":[
    "#CREATE THE DATA OF INDEPENDENT VARIABLES\n",
    "X = df[independent_variables].values\n",
    "Y = df[dependent_variable].values"
   ],
   "execution_count":38,
   "outputs":[
    
   ],
   "metadata":{
    "datalore":{
     "type":"CODE",
     "hide_input_from_viewers":false,
     "hide_output_from_viewers":false,
     "node_id":"qaKrEDUhel4xb9vKluPYNO"
    }
   }
  },
  {
   "cell_type":"code",
   "source":[
    "#SPLITTING THE DATASET INTO TRAINING SET AND TESTING SET\n",
    "# \n",
    "X_train,X_test,y_train,y_test = train_test_split(X,Y,test_size=0.2,random_state=0)"
   ],
   "execution_count":39,
   "outputs":[
    
   ],
   "metadata":{
    "datalore":{
     "type":"CODE",
     "hide_input_from_viewers":false,
     "hide_output_from_viewers":false,
     "node_id":"dqzMfkPz1Rn64wScXY6BNv"
    }
   }
  },
  {
   "cell_type":"code",
   "source":[
    "X_train"
   ],
   "execution_count":40,
   "outputs":[
    {
     "data":{
      "text\/html":[
       
      ]
     },
     "metadata":{
      
     },
     "output_type":"display_data"
    }
   ],
   "metadata":{
    "datalore":{
     "type":"CODE",
     "hide_input_from_viewers":false,
     "hide_output_from_viewers":false,
     "node_id":"y2HF1Cd4G6No8uXaXH6OQe"
    }
   }
  },
  {
   "cell_type":"code",
   "source":[
    "#Transforming data\n",
    "scaler = MinMaxScaler()\n",
    "X_train = scaler.fit_transform(X_train)\n",
    "X_test = scaler.fit_transform(X_test)"
   ],
   "execution_count":41,
   "outputs":[
    
   ],
   "metadata":{
    "datalore":{
     "type":"CODE",
     "hide_input_from_viewers":false,
     "hide_output_from_viewers":false,
     "node_id":"PHXhSPpc6z3qPckjdbmuEq"
    }
   }
  },
  {
   "cell_type":"code",
   "source":[
    "#Fitting multiple linear regression to the training set\n",
    "regressor = LinearRegression()\n",
    "regressor.fit(X_train,y_train)"
   ],
   "execution_count":44,
   "outputs":[
    {
     "data":{
      "text\/plain":[
       "LinearRegression()"
      ]
     },
     "metadata":{
      
     },
     "output_type":"display_data"
    }
   ],
   "metadata":{
    "datalore":{
     "type":"CODE",
     "hide_input_from_viewers":false,
     "hide_output_from_viewers":false,
     "node_id":"711HFCbYAwvD9Ye116uQnU"
    }
   }
  },
  {
   "cell_type":"code",
   "source":[
    "#Value of c in y=mx + c\n",
    "regressor.intercept_"
   ],
   "execution_count":45,
   "outputs":[
    {
     "data":{
      "text\/plain":[
       "44153.95466784859"
      ]
     },
     "metadata":{
      
     },
     "output_type":"display_data"
    }
   ],
   "metadata":{
    "datalore":{
     "type":"CODE",
     "hide_input_from_viewers":false,
     "hide_output_from_viewers":false,
     "node_id":"ZTQxuagnQvJyImMezUTiyn"
    }
   }
  },
  {
   "cell_type":"code",
   "source":[
    "df[independent_variables]"
   ],
   "execution_count":47,
   "outputs":[
    {
     "data":{
      "text\/html":[
       "<div>\n",
       "<style scoped>\n",
       "    .dataframe tbody tr th:only-of-type {\n",
       "        vertical-align: middle;\n",
       "    }\n",
       "\n",
       "    .dataframe tbody tr th {\n",
       "        vertical-align: top;\n",
       "    }\n",
       "\n",
       "    .dataframe thead th {\n",
       "        text-align: right;\n",
       "    }\n",
       "<\/style>\n",
       "<table border=\"1\" class=\"dataframe\">\n",
       "  <thead>\n",
       "    <tr style=\"text-align: right;\">\n",
       "      <th><\/th>\n",
       "      <th>NewYork_State<\/th>\n",
       "      <th>R&amp;D Spend<\/th>\n",
       "      <th>Florida_State<\/th>\n",
       "      <th>Marketing Spend<\/th>\n",
       "      <th>Administration<\/th>\n",
       "      <th>California_State<\/th>\n",
       "    <\/tr>\n",
       "  <\/thead>\n",
       "  <tbody>\n",
       "    <tr>\n",
       "      <th>0<\/th>\n",
       "      <td>1<\/td>\n",
       "      <td>165349.20<\/td>\n",
       "      <td>0<\/td>\n",
       "      <td>471784.10<\/td>\n",
       "      <td>136897.80<\/td>\n",
       "      <td>0<\/td>\n",
       "    <\/tr>\n",
       "    <tr>\n",
       "      <th>1<\/th>\n",
       "      <td>0<\/td>\n",
       "      <td>162597.70<\/td>\n",
       "      <td>0<\/td>\n",
       "      <td>443898.53<\/td>\n",
       "      <td>151377.59<\/td>\n",
       "      <td>1<\/td>\n",
       "    <\/tr>\n",
       "    <tr>\n",
       "      <th>2<\/th>\n",
       "      <td>0<\/td>\n",
       "      <td>153441.51<\/td>\n",
       "      <td>1<\/td>\n",
       "      <td>407934.54<\/td>\n",
       "      <td>101145.55<\/td>\n",
       "      <td>0<\/td>\n",
       "    <\/tr>\n",
       "    <tr>\n",
       "      <th>3<\/th>\n",
       "      <td>1<\/td>\n",
       "      <td>144372.41<\/td>\n",
       "      <td>0<\/td>\n",
       "      <td>383199.62<\/td>\n",
       "      <td>118671.85<\/td>\n",
       "      <td>0<\/td>\n",
       "    <\/tr>\n",
       "    <tr>\n",
       "      <th>4<\/th>\n",
       "      <td>0<\/td>\n",
       "      <td>142107.34<\/td>\n",
       "      <td>1<\/td>\n",
       "      <td>366168.42<\/td>\n",
       "      <td>91391.77<\/td>\n",
       "      <td>0<\/td>\n",
       "    <\/tr>\n",
       "    <tr>\n",
       "      <th>5<\/th>\n",
       "      <td>1<\/td>\n",
       "      <td>131876.90<\/td>\n",
       "      <td>0<\/td>\n",
       "      <td>362861.36<\/td>\n",
       "      <td>99814.71<\/td>\n",
       "      <td>0<\/td>\n",
       "    <\/tr>\n",
       "    <tr>\n",
       "      <th>6<\/th>\n",
       "      <td>0<\/td>\n",
       "      <td>134615.46<\/td>\n",
       "      <td>0<\/td>\n",
       "      <td>127716.82<\/td>\n",
       "      <td>147198.87<\/td>\n",
       "      <td>1<\/td>\n",
       "    <\/tr>\n",
       "    <tr>\n",
       "      <th>7<\/th>\n",
       "      <td>0<\/td>\n",
       "      <td>130298.13<\/td>\n",
       "      <td>1<\/td>\n",
       "      <td>323876.68<\/td>\n",
       "      <td>145530.06<\/td>\n",
       "      <td>0<\/td>\n",
       "    <\/tr>\n",
       "    <tr>\n",
       "      <th>8<\/th>\n",
       "      <td>1<\/td>\n",
       "      <td>120542.52<\/td>\n",
       "      <td>0<\/td>\n",
       "      <td>311613.29<\/td>\n",
       "      <td>148718.95<\/td>\n",
       "      <td>0<\/td>\n",
       "    <\/tr>\n",
       "    <tr>\n",
       "      <th>9<\/th>\n",
       "      <td>0<\/td>\n",
       "      <td>123334.88<\/td>\n",
       "      <td>0<\/td>\n",
       "      <td>304981.62<\/td>\n",
       "      <td>108679.17<\/td>\n",
       "      <td>1<\/td>\n",
       "    <\/tr>\n",
       "    <tr>\n",
       "      <th>10<\/th>\n",
       "      <td>0<\/td>\n",
       "      <td>101913.08<\/td>\n",
       "      <td>1<\/td>\n",
       "      <td>229160.95<\/td>\n",
       "      <td>110594.11<\/td>\n",
       "      <td>0<\/td>\n",
       "    <\/tr>\n",
       "    <tr>\n",
       "      <th>11<\/th>\n",
       "      <td>0<\/td>\n",
       "      <td>100671.96<\/td>\n",
       "      <td>0<\/td>\n",
       "      <td>249744.55<\/td>\n",
       "      <td>91790.61<\/td>\n",
       "      <td>1<\/td>\n",
       "    <\/tr>\n",
       "    <tr>\n",
       "      <th>12<\/th>\n",
       "      <td>0<\/td>\n",
       "      <td>93863.75<\/td>\n",
       "      <td>1<\/td>\n",
       "      <td>249839.44<\/td>\n",
       "      <td>127320.38<\/td>\n",
       "      <td>0<\/td>\n",
       "    <\/tr>\n",
       "    <tr>\n",
       "      <th>13<\/th>\n",
       "      <td>0<\/td>\n",
       "      <td>91992.39<\/td>\n",
       "      <td>0<\/td>\n",
       "      <td>252664.93<\/td>\n",
       "      <td>135495.07<\/td>\n",
       "      <td>1<\/td>\n",
       "    <\/tr>\n",
       "    <tr>\n",
       "      <th>14<\/th>\n",
       "      <td>0<\/td>\n",
       "      <td>119943.24<\/td>\n",
       "      <td>1<\/td>\n",
       "      <td>256512.92<\/td>\n",
       "      <td>156547.42<\/td>\n",
       "      <td>0<\/td>\n",
       "    <\/tr>\n",
       "    <tr>\n",
       "      <th>15<\/th>\n",
       "      <td>1<\/td>\n",
       "      <td>114523.61<\/td>\n",
       "      <td>0<\/td>\n",
       "      <td>261776.23<\/td>\n",
       "      <td>122616.84<\/td>\n",
       "      <td>0<\/td>\n",
       "    <\/tr>\n",
       "    <tr>\n",
       "      <th>16<\/th>\n",
       "      <td>0<\/td>\n",
       "      <td>78013.11<\/td>\n",
       "      <td>0<\/td>\n",
       "      <td>264346.06<\/td>\n",
       "      <td>121597.55<\/td>\n",
       "      <td>1<\/td>\n",
       "    <\/tr>\n",
       "    <tr>\n",
       "      <th>17<\/th>\n",
       "      <td>1<\/td>\n",
       "      <td>94657.16<\/td>\n",
       "      <td>0<\/td>\n",
       "      <td>282574.31<\/td>\n",
       "      <td>145077.58<\/td>\n",
       "      <td>0<\/td>\n",
       "    <\/tr>\n",
       "    <tr>\n",
       "      <th>18<\/th>\n",
       "      <td>0<\/td>\n",
       "      <td>91749.16<\/td>\n",
       "      <td>1<\/td>\n",
       "      <td>294919.57<\/td>\n",
       "      <td>114175.79<\/td>\n",
       "      <td>0<\/td>\n",
       "    <\/tr>\n",
       "    <tr>\n",
       "      <th>19<\/th>\n",
       "      <td>1<\/td>\n",
       "      <td>86419.70<\/td>\n",
       "      <td>0<\/td>\n",
       "      <td>0.00<\/td>\n",
       "      <td>153514.11<\/td>\n",
       "      <td>0<\/td>\n",
       "    <\/tr>\n",
       "    <tr>\n",
       "      <th>20<\/th>\n",
       "      <td>0<\/td>\n",
       "      <td>76253.86<\/td>\n",
       "      <td>0<\/td>\n",
       "      <td>298664.47<\/td>\n",
       "      <td>113867.30<\/td>\n",
       "      <td>1<\/td>\n",
       "    <\/tr>\n",
       "    <tr>\n",
       "      <th>21<\/th>\n",
       "      <td>1<\/td>\n",
       "      <td>78389.47<\/td>\n",
       "      <td>0<\/td>\n",
       "      <td>299737.29<\/td>\n",
       "      <td>153773.43<\/td>\n",
       "      <td>0<\/td>\n",
       "    <\/tr>\n",
       "    <tr>\n",
       "      <th>22<\/th>\n",
       "      <td>0<\/td>\n",
       "      <td>73994.56<\/td>\n",
       "      <td>1<\/td>\n",
       "      <td>303319.26<\/td>\n",
       "      <td>122782.75<\/td>\n",
       "      <td>0<\/td>\n",
       "    <\/tr>\n",
       "    <tr>\n",
       "      <th>23<\/th>\n",
       "      <td>0<\/td>\n",
       "      <td>67532.53<\/td>\n",
       "      <td>1<\/td>\n",
       "      <td>304768.73<\/td>\n",
       "      <td>105751.03<\/td>\n",
       "      <td>0<\/td>\n",
       "    <\/tr>\n",
       "    <tr>\n",
       "      <th>24<\/th>\n",
       "      <td>1<\/td>\n",
       "      <td>77044.01<\/td>\n",
       "      <td>0<\/td>\n",
       "      <td>140574.81<\/td>\n",
       "      <td>99281.34<\/td>\n",
       "      <td>0<\/td>\n",
       "    <\/tr>\n",
       "    <tr>\n",
       "      <th>25<\/th>\n",
       "      <td>0<\/td>\n",
       "      <td>64664.71<\/td>\n",
       "      <td>0<\/td>\n",
       "      <td>137962.62<\/td>\n",
       "      <td>139553.16<\/td>\n",
       "      <td>1<\/td>\n",
       "    <\/tr>\n",
       "    <tr>\n",
       "      <th>26<\/th>\n",
       "      <td>0<\/td>\n",
       "      <td>75328.87<\/td>\n",
       "      <td>1<\/td>\n",
       "      <td>134050.07<\/td>\n",
       "      <td>144135.98<\/td>\n",
       "      <td>0<\/td>\n",
       "    <\/tr>\n",
       "    <tr>\n",
       "      <th>27<\/th>\n",
       "      <td>1<\/td>\n",
       "      <td>72107.60<\/td>\n",
       "      <td>0<\/td>\n",
       "      <td>353183.81<\/td>\n",
       "      <td>127864.55<\/td>\n",
       "      <td>0<\/td>\n",
       "    <\/tr>\n",
       "    <tr>\n",
       "      <th>28<\/th>\n",
       "      <td>0<\/td>\n",
       "      <td>66051.52<\/td>\n",
       "      <td>1<\/td>\n",
       "      <td>118148.20<\/td>\n",
       "      <td>182645.56<\/td>\n",
       "      <td>0<\/td>\n",
       "    <\/tr>\n",
       "    <tr>\n",
       "      <th>29<\/th>\n",
       "      <td>1<\/td>\n",
       "      <td>65605.48<\/td>\n",
       "      <td>0<\/td>\n",
       "      <td>107138.38<\/td>\n",
       "      <td>153032.06<\/td>\n",
       "      <td>0<\/td>\n",
       "    <\/tr>\n",
       "    <tr>\n",
       "      <th>30<\/th>\n",
       "      <td>0<\/td>\n",
       "      <td>61994.48<\/td>\n",
       "      <td>1<\/td>\n",
       "      <td>91131.24<\/td>\n",
       "      <td>115641.28<\/td>\n",
       "      <td>0<\/td>\n",
       "    <\/tr>\n",
       "    <tr>\n",
       "      <th>31<\/th>\n",
       "      <td>1<\/td>\n",
       "      <td>61136.38<\/td>\n",
       "      <td>0<\/td>\n",
       "      <td>88218.23<\/td>\n",
       "      <td>152701.92<\/td>\n",
       "      <td>0<\/td>\n",
       "    <\/tr>\n",
       "    <tr>\n",
       "      <th>32<\/th>\n",
       "      <td>0<\/td>\n",
       "      <td>63408.86<\/td>\n",
       "      <td>0<\/td>\n",
       "      <td>46085.25<\/td>\n",
       "      <td>129219.61<\/td>\n",
       "      <td>1<\/td>\n",
       "    <\/tr>\n",
       "    <tr>\n",
       "      <th>33<\/th>\n",
       "      <td>0<\/td>\n",
       "      <td>55493.95<\/td>\n",
       "      <td>1<\/td>\n",
       "      <td>214634.81<\/td>\n",
       "      <td>103057.49<\/td>\n",
       "      <td>0<\/td>\n",
       "    <\/tr>\n",
       "    <tr>\n",
       "      <th>34<\/th>\n",
       "      <td>0<\/td>\n",
       "      <td>46426.07<\/td>\n",
       "      <td>0<\/td>\n",
       "      <td>210797.67<\/td>\n",
       "      <td>157693.92<\/td>\n",
       "      <td>1<\/td>\n",
       "    <\/tr>\n",
       "    <tr>\n",
       "      <th>35<\/th>\n",
       "      <td>1<\/td>\n",
       "      <td>46014.02<\/td>\n",
       "      <td>0<\/td>\n",
       "      <td>205517.64<\/td>\n",
       "      <td>85047.44<\/td>\n",
       "      <td>0<\/td>\n",
       "    <\/tr>\n",
       "    <tr>\n",
       "      <th>36<\/th>\n",
       "      <td>0<\/td>\n",
       "      <td>28663.76<\/td>\n",
       "      <td>1<\/td>\n",
       "      <td>201126.82<\/td>\n",
       "      <td>127056.21<\/td>\n",
       "      <td>0<\/td>\n",
       "    <\/tr>\n",
       "    <tr>\n",
       "      <th>37<\/th>\n",
       "      <td>0<\/td>\n",
       "      <td>44069.95<\/td>\n",
       "      <td>0<\/td>\n",
       "      <td>197029.42<\/td>\n",
       "      <td>51283.14<\/td>\n",
       "      <td>1<\/td>\n",
       "    <\/tr>\n",
       "    <tr>\n",
       "      <th>38<\/th>\n",
       "      <td>1<\/td>\n",
       "      <td>20229.59<\/td>\n",
       "      <td>0<\/td>\n",
       "      <td>185265.10<\/td>\n",
       "      <td>65947.93<\/td>\n",
       "      <td>0<\/td>\n",
       "    <\/tr>\n",
       "    <tr>\n",
       "      <th>39<\/th>\n",
       "      <td>0<\/td>\n",
       "      <td>38558.51<\/td>\n",
       "      <td>0<\/td>\n",
       "      <td>174999.30<\/td>\n",
       "      <td>82982.09<\/td>\n",
       "      <td>1<\/td>\n",
       "    <\/tr>\n",
       "    <tr>\n",
       "      <th>40<\/th>\n",
       "      <td>0<\/td>\n",
       "      <td>28754.33<\/td>\n",
       "      <td>0<\/td>\n",
       "      <td>172795.67<\/td>\n",
       "      <td>118546.05<\/td>\n",
       "      <td>1<\/td>\n",
       "    <\/tr>\n",
       "    <tr>\n",
       "      <th>41<\/th>\n",
       "      <td>0<\/td>\n",
       "      <td>27892.92<\/td>\n",
       "      <td>1<\/td>\n",
       "      <td>164470.71<\/td>\n",
       "      <td>84710.77<\/td>\n",
       "      <td>0<\/td>\n",
       "    <\/tr>\n",
       "    <tr>\n",
       "      <th>42<\/th>\n",
       "      <td>0<\/td>\n",
       "      <td>23640.93<\/td>\n",
       "      <td>0<\/td>\n",
       "      <td>148001.11<\/td>\n",
       "      <td>96189.63<\/td>\n",
       "      <td>1<\/td>\n",
       "    <\/tr>\n",
       "    <tr>\n",
       "      <th>43<\/th>\n",
       "      <td>1<\/td>\n",
       "      <td>15505.73<\/td>\n",
       "      <td>0<\/td>\n",
       "      <td>35534.17<\/td>\n",
       "      <td>127382.30<\/td>\n",
       "      <td>0<\/td>\n",
       "    <\/tr>\n",
       "    <tr>\n",
       "      <th>44<\/th>\n",
       "      <td>0<\/td>\n",
       "      <td>22177.74<\/td>\n",
       "      <td>0<\/td>\n",
       "      <td>28334.72<\/td>\n",
       "      <td>154806.14<\/td>\n",
       "      <td>1<\/td>\n",
       "    <\/tr>\n",
       "    <tr>\n",
       "      <th>45<\/th>\n",
       "      <td>1<\/td>\n",
       "      <td>1000.23<\/td>\n",
       "      <td>0<\/td>\n",
       "      <td>1903.93<\/td>\n",
       "      <td>124153.04<\/td>\n",
       "      <td>0<\/td>\n",
       "    <\/tr>\n",
       "    <tr>\n",
       "      <th>46<\/th>\n",
       "      <td>0<\/td>\n",
       "      <td>1315.46<\/td>\n",
       "      <td>1<\/td>\n",
       "      <td>297114.46<\/td>\n",
       "      <td>115816.21<\/td>\n",
       "      <td>0<\/td>\n",
       "    <\/tr>\n",
       "    <tr>\n",
       "      <th>47<\/th>\n",
       "      <td>0<\/td>\n",
       "      <td>0.00<\/td>\n",
       "      <td>0<\/td>\n",
       "      <td>0.00<\/td>\n",
       "      <td>135426.92<\/td>\n",
       "      <td>1<\/td>\n",
       "    <\/tr>\n",
       "    <tr>\n",
       "      <th>48<\/th>\n",
       "      <td>1<\/td>\n",
       "      <td>542.05<\/td>\n",
       "      <td>0<\/td>\n",
       "      <td>0.00<\/td>\n",
       "      <td>51743.15<\/td>\n",
       "      <td>0<\/td>\n",
       "    <\/tr>\n",
       "    <tr>\n",
       "      <th>49<\/th>\n",
       "      <td>0<\/td>\n",
       "      <td>0.00<\/td>\n",
       "      <td>0<\/td>\n",
       "      <td>45173.06<\/td>\n",
       "      <td>116983.80<\/td>\n",
       "      <td>1<\/td>\n",
       "    <\/tr>\n",
       "  <\/tbody>\n",
       "<\/table>\n",
       "<\/div>"
      ]
     },
     "metadata":{
      
     },
     "output_type":"display_data"
    }
   ],
   "metadata":{
    "datalore":{
     "type":"CODE",
     "hide_input_from_viewers":false,
     "hide_output_from_viewers":false,
     "node_id":"jlob2KZhqZ7pfJsZcjU501"
    }
   }
  },
  {
   "cell_type":"code",
   "source":[
    "#COEFFICIENTS FOR VARIABLES - ORDER MATTERS FROM DF[INDEPENDENT_VARIABLES]\n",
    "regressor.coef_"
   ],
   "execution_count":46,
   "outputs":[
    {
     "data":{
      "text\/html":[
       
      ]
     },
     "metadata":{
      
     },
     "output_type":"display_data"
    }
   ],
   "metadata":{
    "datalore":{
     "type":"CODE",
     "hide_input_from_viewers":false,
     "hide_output_from_viewers":false,
     "node_id":"yh5tE1lurFjml8mmcZGRub"
    }
   }
  },
  {
   "cell_type":"code",
   "source":[
    "#PREDICTION on the trained dataset\n",
    "regressor.predict(X_train)"
   ],
   "execution_count":48,
   "outputs":[
    {
     "data":{
      "text\/html":[
       
      ]
     },
     "metadata":{
      
     },
     "output_type":"display_data"
    }
   ],
   "metadata":{
    "datalore":{
     "type":"CODE",
     "hide_input_from_viewers":false,
     "hide_output_from_viewers":false,
     "node_id":"ntGD8N0NMH4DWyMeALhdcr"
    }
   }
  },
  {
   "cell_type":"code",
   "source":[
    "y_train"
   ],
   "execution_count":49,
   "outputs":[
    {
     "data":{
      "text\/html":[
       
      ]
     },
     "metadata":{
      
     },
     "output_type":"display_data"
    }
   ],
   "metadata":{
    "datalore":{
     "type":"CODE",
     "hide_input_from_viewers":false,
     "hide_output_from_viewers":false,
     "node_id":"BNcFy1qyeNFTfSCfApMvwN"
    }
   }
  },
  {
   "cell_type":"code",
   "source":[
    "#predicting the test set results\n",
    "y_pred = regressor.predict(X_test)"
   ],
   "execution_count":50,
   "outputs":[
    
   ],
   "metadata":{
    "datalore":{
     "type":"CODE",
     "hide_input_from_viewers":false,
     "hide_output_from_viewers":false,
     "node_id":"R1vCbPXEa4RD1VQoSk2XjE"
    }
   }
  },
  {
   "cell_type":"code",
   "source":[
    "#predicted profit on the test data\n",
    "y_pred"
   ],
   "execution_count":51,
   "outputs":[
    {
     "data":{
      "text\/html":[
       
      ]
     },
     "metadata":{
      
     },
     "output_type":"display_data"
    }
   ],
   "metadata":{
    "datalore":{
     "type":"CODE",
     "hide_input_from_viewers":false,
     "hide_output_from_viewers":false,
     "node_id":"gTFtSUt8NmDOULQTsy3Vf0"
    }
   }
  },
  {
   "cell_type":"code",
   "source":[
    "#Actual profit on the test data\n",
    "y_test"
   ],
   "execution_count":52,
   "outputs":[
    {
     "data":{
      "text\/html":[
       
      ]
     },
     "metadata":{
      
     },
     "output_type":"display_data"
    }
   ],
   "metadata":{
    "datalore":{
     "type":"CODE",
     "hide_input_from_viewers":false,
     "hide_output_from_viewers":false,
     "node_id":"KM0vh0FTXwOPTQvpBtt2eh"
    }
   }
  },
  {
   "cell_type":"code",
   "source":[
    "mean_squared_error(y_test,y_pred)"
   ],
   "execution_count":53,
   "outputs":[
    {
     "data":{
      "text\/plain":[
       "225690851.26384506"
      ]
     },
     "metadata":{
      
     },
     "output_type":"display_data"
    }
   ],
   "metadata":{
    "datalore":{
     "type":"CODE",
     "hide_input_from_viewers":false,
     "hide_output_from_viewers":false,
     "node_id":"A08xtl3PAOhDub69x9Ih1h"
    }
   }
  },
  {
   "cell_type":"code",
   "source":[
    "math.sqrt(mean_squared_error(y_test,y_pred))"
   ],
   "execution_count":54,
   "outputs":[
    {
     "data":{
      "text\/plain":[
       "15023.010725678294"
      ]
     },
     "metadata":{
      
     },
     "output_type":"display_data"
    }
   ],
   "metadata":{
    "datalore":{
     "type":"CODE",
     "hide_input_from_viewers":false,
     "hide_output_from_viewers":false,
     "node_id":"iUDGfIbwYeoFPSJeNaU5Gr"
    }
   }
  },
  {
   "cell_type":"code",
   "source":[
    "r2_score(y_test,y_pred)"
   ],
   "execution_count":55,
   "outputs":[
    {
     "data":{
      "text\/plain":[
       "0.8235262062096445"
      ]
     },
     "metadata":{
      
     },
     "output_type":"display_data"
    }
   ],
   "metadata":{
    "datalore":{
     "type":"CODE",
     "hide_input_from_viewers":false,
     "hide_output_from_viewers":false,
     "node_id":"ZNcj46pcTinvIr0NoiPm0N"
    }
   }
  }
 ],
 "metadata":{
  "kernelspec":{
   "display_name":"Python",
   "language":"python",
   "name":"python"
  },
  "datalore":{
   "version":1,
   "computation_mode":"JUPYTER",
   "package_manager":"pip",
   "base_environment":"default",
   "packages":[
    
   ]
  }
 },
 "nbformat":4,
 "nbformat_minor":4
}