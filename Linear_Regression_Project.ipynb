{
 "cells":[
  {
   "cell_type":"markdown",
   "source":[
    "# Sheet"
   ],
   "attachments":{
    
   },
   "metadata":{
    "datalore":{
     "type":"MD",
     "hide_input_from_viewers":false,
     "hide_output_from_viewers":false,
     "sheet_delimiter":true
    }
   }
  },
  {
   "cell_type":"code",
   "source":[
    "#IMPORTING LIBARARIES\n",
    "\n",
    "import numpy as np\n",
    "import pandas as pd\n",
    "import matplotlib.pyplot as plt\n",
    "import seaborn as sns\n",
    "import scipy.stats as stats\n",
    "\n",
    "from sklearn.linear_model import LinearRegression\n",
    "from sklearn.metrics import r2_score\n",
    "from sklearn.metrics import mean_squared_error\n",
    "from sklearn.model_selection import train_test_split"
   ],
   "execution_count":9,
   "outputs":[
    
   ],
   "metadata":{
    "datalore":{
     "type":"CODE",
     "hide_input_from_viewers":false,
     "hide_output_from_viewers":false,
     "node_id":"2OiS9TZPIBRMMHMV5FNlbR"
    }
   }
  },
  {
   "cell_type":"code",
   "source":[
    "data = '.\/CAR DETAILS FROM CAR DEKHO.csv'\n",
    "df = pd.read_csv(data)"
   ],
   "execution_count":10,
   "outputs":[
    
   ],
   "metadata":{
    "datalore":{
     "type":"CODE",
     "hide_input_from_viewers":false,
     "hide_output_from_viewers":false,
     "node_id":"uIEPbyvvOHz4sqNEe6l9t5"
    }
   }
  },
  {
   "cell_type":"code",
   "source":[
    "df.head()"
   ],
   "execution_count":11,
   "outputs":[
    {
     "data":{
      "text\/html":[
       "<div>\n",
       "<style scoped>\n",
       "    .dataframe tbody tr th:only-of-type {\n",
       "        vertical-align: middle;\n",
       "    }\n",
       "\n",
       "    .dataframe tbody tr th {\n",
       "        vertical-align: top;\n",
       "    }\n",
       "\n",
       "    .dataframe thead th {\n",
       "        text-align: right;\n",
       "    }\n",
       "<\/style>\n",
       "<table border=\"1\" class=\"dataframe\">\n",
       "  <thead>\n",
       "    <tr style=\"text-align: right;\">\n",
       "      <th><\/th>\n",
       "      <th>name<\/th>\n",
       "      <th>year<\/th>\n",
       "      <th>selling_price<\/th>\n",
       "      <th>km_driven<\/th>\n",
       "      <th>fuel<\/th>\n",
       "      <th>seller_type<\/th>\n",
       "      <th>transmission<\/th>\n",
       "      <th>owner<\/th>\n",
       "    <\/tr>\n",
       "  <\/thead>\n",
       "  <tbody>\n",
       "    <tr>\n",
       "      <th>0<\/th>\n",
       "      <td>Maruti 800 AC<\/td>\n",
       "      <td>2007<\/td>\n",
       "      <td>60000<\/td>\n",
       "      <td>70000<\/td>\n",
       "      <td>Petrol<\/td>\n",
       "      <td>Individual<\/td>\n",
       "      <td>Manual<\/td>\n",
       "      <td>First Owner<\/td>\n",
       "    <\/tr>\n",
       "    <tr>\n",
       "      <th>1<\/th>\n",
       "      <td>Maruti Wagon R LXI Minor<\/td>\n",
       "      <td>2007<\/td>\n",
       "      <td>135000<\/td>\n",
       "      <td>50000<\/td>\n",
       "      <td>Petrol<\/td>\n",
       "      <td>Individual<\/td>\n",
       "      <td>Manual<\/td>\n",
       "      <td>First Owner<\/td>\n",
       "    <\/tr>\n",
       "    <tr>\n",
       "      <th>2<\/th>\n",
       "      <td>Hyundai Verna 1.6 SX<\/td>\n",
       "      <td>2012<\/td>\n",
       "      <td>600000<\/td>\n",
       "      <td>100000<\/td>\n",
       "      <td>Diesel<\/td>\n",
       "      <td>Individual<\/td>\n",
       "      <td>Manual<\/td>\n",
       "      <td>First Owner<\/td>\n",
       "    <\/tr>\n",
       "    <tr>\n",
       "      <th>3<\/th>\n",
       "      <td>Datsun RediGO T Option<\/td>\n",
       "      <td>2017<\/td>\n",
       "      <td>250000<\/td>\n",
       "      <td>46000<\/td>\n",
       "      <td>Petrol<\/td>\n",
       "      <td>Individual<\/td>\n",
       "      <td>Manual<\/td>\n",
       "      <td>First Owner<\/td>\n",
       "    <\/tr>\n",
       "    <tr>\n",
       "      <th>4<\/th>\n",
       "      <td>Honda Amaze VX i-DTEC<\/td>\n",
       "      <td>2014<\/td>\n",
       "      <td>450000<\/td>\n",
       "      <td>141000<\/td>\n",
       "      <td>Diesel<\/td>\n",
       "      <td>Individual<\/td>\n",
       "      <td>Manual<\/td>\n",
       "      <td>Second Owner<\/td>\n",
       "    <\/tr>\n",
       "  <\/tbody>\n",
       "<\/table>\n",
       "<\/div>"
      ]
     },
     "metadata":{
      
     },
     "output_type":"display_data"
    }
   ],
   "metadata":{
    "datalore":{
     "type":"CODE",
     "hide_input_from_viewers":false,
     "hide_output_from_viewers":false,
     "node_id":"cDQxOWv3f6YcSvGpDPr0PY"
    }
   }
  },
  {
   "cell_type":"code",
   "source":[
    "df.info()"
   ],
   "execution_count":12,
   "outputs":[
    {
     "name":"stdout",
     "text":[
      "<class 'pandas.core.frame.DataFrame'>\n",
      "RangeIndex: 4340 entries, 0 to 4339\n",
      "Data columns (total 8 columns):\n",
      " #   Column         Non-Null Count  Dtype \n",
      "---  ------         --------------  ----- \n",
      " 0   name           4340 non-null   object\n",
      " 1   year           4340 non-null   int64 \n",
      " 2   selling_price  4340 non-null   int64 \n",
      " 3   km_driven      4340 non-null   int64 \n",
      " 4   fuel           4340 non-null   object\n",
      " 5   seller_type    4340 non-null   object\n",
      " 6   transmission   4340 non-null   object\n",
      " 7   owner          4340 non-null   object\n",
      "dtypes: int64(3), object(5)\n",
      "memory usage: 271.4+ KB\n"
     ],
     "output_type":"stream"
    }
   ],
   "metadata":{
    "datalore":{
     "type":"CODE",
     "hide_input_from_viewers":false,
     "hide_output_from_viewers":false,
     "node_id":"RldSfjclkF8zS926JTO8Sf"
    }
   }
  },
  {
   "cell_type":"code",
   "source":[
    "df.describe()"
   ],
   "execution_count":13,
   "outputs":[
    {
     "data":{
      "text\/html":[
       "<div>\n",
       "<style scoped>\n",
       "    .dataframe tbody tr th:only-of-type {\n",
       "        vertical-align: middle;\n",
       "    }\n",
       "\n",
       "    .dataframe tbody tr th {\n",
       "        vertical-align: top;\n",
       "    }\n",
       "\n",
       "    .dataframe thead th {\n",
       "        text-align: right;\n",
       "    }\n",
       "<\/style>\n",
       "<table border=\"1\" class=\"dataframe\">\n",
       "  <thead>\n",
       "    <tr style=\"text-align: right;\">\n",
       "      <th><\/th>\n",
       "      <th>year<\/th>\n",
       "      <th>selling_price<\/th>\n",
       "      <th>km_driven<\/th>\n",
       "    <\/tr>\n",
       "  <\/thead>\n",
       "  <tbody>\n",
       "    <tr>\n",
       "      <th>count<\/th>\n",
       "      <td>4340.000000<\/td>\n",
       "      <td>4.340000e+03<\/td>\n",
       "      <td>4340.000000<\/td>\n",
       "    <\/tr>\n",
       "    <tr>\n",
       "      <th>mean<\/th>\n",
       "      <td>2013.090783<\/td>\n",
       "      <td>5.041273e+05<\/td>\n",
       "      <td>66215.777419<\/td>\n",
       "    <\/tr>\n",
       "    <tr>\n",
       "      <th>std<\/th>\n",
       "      <td>4.215344<\/td>\n",
       "      <td>5.785487e+05<\/td>\n",
       "      <td>46644.102194<\/td>\n",
       "    <\/tr>\n",
       "    <tr>\n",
       "      <th>min<\/th>\n",
       "      <td>1992.000000<\/td>\n",
       "      <td>2.000000e+04<\/td>\n",
       "      <td>1.000000<\/td>\n",
       "    <\/tr>\n",
       "    <tr>\n",
       "      <th>25%<\/th>\n",
       "      <td>2011.000000<\/td>\n",
       "      <td>2.087498e+05<\/td>\n",
       "      <td>35000.000000<\/td>\n",
       "    <\/tr>\n",
       "    <tr>\n",
       "      <th>50%<\/th>\n",
       "      <td>2014.000000<\/td>\n",
       "      <td>3.500000e+05<\/td>\n",
       "      <td>60000.000000<\/td>\n",
       "    <\/tr>\n",
       "    <tr>\n",
       "      <th>75%<\/th>\n",
       "      <td>2016.000000<\/td>\n",
       "      <td>6.000000e+05<\/td>\n",
       "      <td>90000.000000<\/td>\n",
       "    <\/tr>\n",
       "    <tr>\n",
       "      <th>max<\/th>\n",
       "      <td>2020.000000<\/td>\n",
       "      <td>8.900000e+06<\/td>\n",
       "      <td>806599.000000<\/td>\n",
       "    <\/tr>\n",
       "  <\/tbody>\n",
       "<\/table>\n",
       "<\/div>"
      ]
     },
     "metadata":{
      
     },
     "output_type":"display_data"
    }
   ],
   "metadata":{
    "datalore":{
     "type":"CODE",
     "hide_input_from_viewers":false,
     "hide_output_from_viewers":false,
     "node_id":"xxMvIBOnLYFyNV4s3yFlPC"
    }
   }
  },
  {
   "cell_type":"markdown",
   "source":[
    "## EXPLORATORY DATA ANALYSIS AND FEATURE ENGINEERING"
   ],
   "attachments":{
    
   },
   "metadata":{
    "datalore":{
     "type":"MD",
     "hide_input_from_viewers":false,
     "hide_output_from_viewers":false,
     "node_id":"4om8tU72DhIpnvVZSQS4Ik"
    }
   }
  },
  {
   "cell_type":"markdown",
   "source":[
    "### QQ PLOT"
   ],
   "attachments":{
    
   },
   "metadata":{
    "datalore":{
     "type":"MD",
     "hide_input_from_viewers":false,
     "hide_output_from_viewers":false,
     "node_id":"ppR0mJokvb4vsBDc5Iwz5b"
    }
   }
  },
  {
   "cell_type":"code",
   "source":[
    "def diagnostic_plots(df, variable):\n",
    "    ''' function to plot a histogram and a Q-Q plot\n",
    "    side by side, for a certain variable '''\n",
    "    \n",
    "    plt.figure(figsize=(15,6))\n",
    "    plt.subplot(1, 2, 1)\n",
    "    df[variable].hist()\n",
    "\n",
    "    plt.subplot(1, 2, 2)\n",
    "    stats.probplot(df[variable], dist=\"norm\", plot=plt)\n",
    "\n",
    "    plt.show()\n",
    "    "
   ],
   "execution_count":14,
   "outputs":[
    
   ],
   "metadata":{
    "datalore":{
     "type":"CODE",
     "hide_input_from_viewers":false,
     "hide_output_from_viewers":false,
     "node_id":"ymOo7TW8tMMcxQO9iRgOXE"
    }
   }
  },
  {
   "cell_type":"code",
   "source":[
    "#QQ PLOTS FOR SELLING PRICE AND KM DRIVEN\n",
    "diagnostic_plots(df,'selling_price')\n",
    "diagnostic_plots(df,'km_driven')"
   ],
   "execution_count":15,
   "outputs":[
    {
     "data":{
      "image\/png":"[encoded data removed]"
     },
     "metadata":{
      "image\/png":{
       
      }
     },
     "output_type":"display_data"
    },
    {
     "data":{
      "image\/png":"[encoded data removed]"
     },
     "metadata":{
      "image\/png":{
       
      }
     },
     "output_type":"display_data"
    }
   ],
   "metadata":{
    "datalore":{
     "type":"CODE",
     "hide_input_from_viewers":false,
     "hide_output_from_viewers":false,
     "node_id":"85p6TpSxwscD8ddxA6x0kq"
    }
   }
  },
  {
   "cell_type":"markdown",
   "source":[
    "From the above plot we can say that both the distributions are right skewed and do not follow Guassian Distribution"
   ],
   "attachments":{
    
   },
   "metadata":{
    "datalore":{
     "type":"MD",
     "hide_input_from_viewers":false,
     "hide_output_from_viewers":false,
     "node_id":"83t66HnIn8UbgQO1zr51yx"
    }
   }
  },
  {
   "cell_type":"markdown",
   "source":[
    "## LOG TRANSFORMATION ON NUMERICAL VARIABLES"
   ],
   "attachments":{
    
   },
   "metadata":{
    "datalore":{
     "type":"MD",
     "hide_input_from_viewers":false,
     "hide_output_from_viewers":false,
     "node_id":"OJbpyIFJiCqPOgFwkbM0t5"
    }
   }
  },
  {
   "cell_type":"code",
   "source":[
    "#APPLYING LOG TRANSFORMATON ON PRICE AND SELLING PRICE\n",
    "\n",
    "df['Log_Price']=np.log10(df['selling_price']+0.1)\n",
    "diagnostic_plots(df,'Log_Price')\n",
    "\n",
    "df['Log_km_driven']=np.log10(df['km_driven']+0.1)\n",
    "diagnostic_plots(df,'Log_km_driven')\n"
   ],
   "execution_count":16,
   "outputs":[
    {
     "data":{
      "image\/png":"[encoded data removed]"
     },
     "metadata":{
      "image\/png":{
       
      }
     },
     "output_type":"display_data"
    },
    {
     "data":{
      "image\/png":"[encoded data removed]"
     },
     "metadata":{
      "image\/png":{
       
      }
     },
     "output_type":"display_data"
    }
   ],
   "metadata":{
    "datalore":{
     "type":"CODE",
     "hide_input_from_viewers":false,
     "hide_output_from_viewers":false,
     "node_id":"t33F5p46bEfWP0Gdh46BBm"
    }
   }
  },
  {
   "cell_type":"code",
   "source":[
    "#YEARS\n",
    "plt.figure(figsize = (15,6))\n",
    "sns.countplot(df['year'])\n",
    "plt.title(\"Years\")"
   ],
   "execution_count":17,
   "outputs":[
    {
     "name":"stderr",
     "text":[
      "\/opt\/python\/envs\/default\/lib\/python3.8\/site-packages\/seaborn\/_decorators.py:36: FutureWarning: Pass the following variable as a keyword arg: x. From version 0.12, the only valid positional argument will be `data`, and passing other arguments without an explicit keyword will result in an error or misinterpretation.\n",
      "  warnings.warn(\n"
     ],
     "output_type":"stream"
    },
    {
     "data":{
      "text\/plain":[
       "Text(0.5, 1.0, 'Years')"
      ]
     },
     "metadata":{
      
     },
     "output_type":"display_data"
    },
    {
     "data":{
      "image\/png":"[encoded data removed]"
     },
     "metadata":{
      "image\/png":{
       
      }
     },
     "output_type":"display_data"
    }
   ],
   "metadata":{
    "datalore":{
     "type":"CODE",
     "hide_input_from_viewers":false,
     "hide_output_from_viewers":false,
     "node_id":"V4M2D3kZbmuXf2zbKQXNeB"
    }
   }
  },
  {
   "cell_type":"markdown",
   "source":[
    "## HANDLING CATEGORICAL DATA - ONE HOT ENCODING"
   ],
   "attachments":{
    
   },
   "metadata":{
    "datalore":{
     "type":"MD",
     "hide_input_from_viewers":false,
     "hide_output_from_viewers":false,
     "node_id":"gVylRP37cJd0aSTXDsdD6W"
    }
   }
  },
  {
   "cell_type":"code",
   "source":[
    "#CONVERTING LEAST OCCURING FUEL TYPES TO OTHERS\n",
    "\n",
    "df['fuel'] = df['fuel'].replace(['CNG','LPG','Electric'],'Others')"
   ],
   "execution_count":18,
   "outputs":[
    
   ],
   "metadata":{
    "datalore":{
     "type":"CODE",
     "hide_input_from_viewers":false,
     "hide_output_from_viewers":false,
     "node_id":"ufwBcApgvXjiCLZ6nzaAck"
    }
   }
  },
  {
   "cell_type":"code",
   "source":[
    "#COUNTPLOT OF FUEL\n",
    "plt.figure(figsize = (15,6))\n",
    "sns.countplot(df['fuel'])"
   ],
   "execution_count":19,
   "outputs":[
    {
     "name":"stderr",
     "text":[
      "\/opt\/python\/envs\/default\/lib\/python3.8\/site-packages\/seaborn\/_decorators.py:36: FutureWarning: Pass the following variable as a keyword arg: x. From version 0.12, the only valid positional argument will be `data`, and passing other arguments without an explicit keyword will result in an error or misinterpretation.\n",
      "  warnings.warn(\n"
     ],
     "output_type":"stream"
    },
    {
     "data":{
      "text\/plain":[
       "<AxesSubplot:xlabel='fuel', ylabel='count'>"
      ]
     },
     "metadata":{
      
     },
     "output_type":"display_data"
    },
    {
     "data":{
      "image\/png":"[encoded data removed]"
     },
     "metadata":{
      "image\/png":{
       
      }
     },
     "output_type":"display_data"
    }
   ],
   "metadata":{
    "datalore":{
     "type":"CODE",
     "hide_input_from_viewers":false,
     "hide_output_from_viewers":false,
     "node_id":"b9xqfNBxXFfyKpH645Cfoc"
    }
   }
  },
  {
   "cell_type":"code",
   "source":[
    "#COUNTPLOT OF SELLER_TYPE\n",
    "plt.figure(figsize = (15,6))\n",
    "sns.countplot(df['seller_type'])"
   ],
   "execution_count":20,
   "outputs":[
    {
     "name":"stderr",
     "text":[
      "\/opt\/python\/envs\/default\/lib\/python3.8\/site-packages\/seaborn\/_decorators.py:36: FutureWarning: Pass the following variable as a keyword arg: x. From version 0.12, the only valid positional argument will be `data`, and passing other arguments without an explicit keyword will result in an error or misinterpretation.\n",
      "  warnings.warn(\n"
     ],
     "output_type":"stream"
    },
    {
     "data":{
      "text\/plain":[
       "<AxesSubplot:xlabel='seller_type', ylabel='count'>"
      ]
     },
     "metadata":{
      
     },
     "output_type":"display_data"
    },
    {
     "data":{
      "image\/png":"[encoded data removed]"
     },
     "metadata":{
      "image\/png":{
       
      }
     },
     "output_type":"display_data"
    }
   ],
   "metadata":{
    "datalore":{
     "type":"CODE",
     "hide_input_from_viewers":false,
     "hide_output_from_viewers":false,
     "node_id":"lCSzSu9C8vxSlSVZwv4UJC"
    }
   }
  },
  {
   "cell_type":"code",
   "source":[
    "# Create dummy variables for the catgeorical variable sellertype\n",
    "\n",
    "df['seller_type_individual'] = np.where(df['seller_type']=='Individual', 1, 0)\n",
    "df['seller_type_dealer'] = np.where(df['seller_type']=='Dealer', 1, 0)\n",
    "df['seller_type_Trustmark Dealer'] = np.where(df['seller_type']=='Trustmark Dealer', 1, 0)\n",
    "\n",
    "# Drop the original column sellertype from the dataframe\n",
    "df.drop(columns=['seller_type'],axis=1,inplace=True)"
   ],
   "execution_count":21,
   "outputs":[
    
   ],
   "metadata":{
    "datalore":{
     "type":"CODE",
     "hide_input_from_viewers":false,
     "hide_output_from_viewers":false,
     "node_id":"4D1rKatxLbplvZ9gPyeGcF"
    }
   }
  },
  {
   "cell_type":"code",
   "source":[
    "#COUNTPLOT OF CATEGORICAL FEATURE TRANSMISSION\n",
    "sns.countplot(df['transmission'])"
   ],
   "execution_count":22,
   "outputs":[
    {
     "name":"stderr",
     "text":[
      "\/opt\/python\/envs\/default\/lib\/python3.8\/site-packages\/seaborn\/_decorators.py:36: FutureWarning: Pass the following variable as a keyword arg: x. From version 0.12, the only valid positional argument will be `data`, and passing other arguments without an explicit keyword will result in an error or misinterpretation.\n",
      "  warnings.warn(\n"
     ],
     "output_type":"stream"
    },
    {
     "data":{
      "text\/plain":[
       "<AxesSubplot:xlabel='transmission', ylabel='count'>"
      ]
     },
     "metadata":{
      
     },
     "output_type":"display_data"
    },
    {
     "data":{
      "image\/png":"[encoded data removed]"
     },
     "metadata":{
      "image\/png":{
       
      }
     },
     "output_type":"display_data"
    }
   ],
   "metadata":{
    "datalore":{
     "type":"CODE",
     "hide_input_from_viewers":false,
     "hide_output_from_viewers":false,
     "node_id":"qkFbFuaV6mf195yQEO33By"
    }
   }
  },
  {
   "cell_type":"code",
   "source":[
    "# ONE HOT ENCODING TRANSMISSION\n",
    "\n",
    "df['transmission_manual'] = np.where(df['transmission']=='Manual', 1, 0)\n",
    "\n",
    "\n",
    "# Drop the original column Transmission from the dataframe\n",
    "df.drop(columns=['transmission'],axis=1,inplace=True)"
   ],
   "execution_count":23,
   "outputs":[
    
   ],
   "metadata":{
    "datalore":{
     "type":"CODE",
     "hide_input_from_viewers":false,
     "hide_output_from_viewers":false,
     "node_id":"SmsKu8LspkWKpMnoyBff88"
    }
   }
  },
  {
   "cell_type":"code",
   "source":[
    "#ONE HOT ENCODING OWNER\n",
    "df['first_owner_indicator'] = np.where(df['owner']=='First Owner', 1, 0)\n",
    "df['second_owner_indicator'] = np.where(df['owner']=='Second Owner', 1, 0)\n",
    "df['third_owner_indicator'] = np.where(df['owner']=='Third Owner', 1, 0)\n",
    "df['fourth_owner_indicator'] = np.where(df['owner']=='Fourth & Above Owner', 1, 0)\n",
    "df['test_drive_indicator'] = np.where(df['owner']=='Test Drive Car', 1, 0)\n",
    "\n",
    "\n",
    "# Drop the original column Transmission from the dataframe\n",
    "df.drop(columns=['owner'],axis=1,inplace=True)"
   ],
   "execution_count":24,
   "outputs":[
    
   ],
   "metadata":{
    "datalore":{
     "type":"CODE",
     "hide_input_from_viewers":false,
     "hide_output_from_viewers":false,
     "node_id":"0HvDwUS7MzSVZUleUvg1AI"
    }
   }
  },
  {
   "cell_type":"code",
   "source":[
    "#ONE HOT ENCODING FUEL\n",
    "df['fuel_petrol'] = np.where(df['fuel']=='Petrol', 1, 0)\n",
    "df['fuel_diesel'] = np.where(df['fuel']=='Diesel', 1, 0)\n",
    "df['fuel_others'] = np.where(df['fuel']=='Others', 1, 0)\n",
    "\n",
    "# Drop the original column fuel from the dataframe\n",
    "df.drop(columns=['fuel'],axis=1,inplace=True)"
   ],
   "execution_count":25,
   "outputs":[
    
   ],
   "metadata":{
    "datalore":{
     "type":"CODE",
     "hide_input_from_viewers":false,
     "hide_output_from_viewers":false,
     "node_id":"FfD7yi2hQSv4ADpv0U3JCU"
    }
   }
  },
  {
   "cell_type":"code",
   "source":[
    "#GROUPING CAR NAME FOR FINDING OUT MEAN SELLING PRICE\n",
    "\n",
    "df_car = df.groupby('name')['selling_price'].mean().sort_values().reset_index()"
   ],
   "execution_count":26,
   "outputs":[
    
   ],
   "metadata":{
    "datalore":{
     "type":"CODE",
     "hide_input_from_viewers":false,
     "hide_output_from_viewers":false,
     "node_id":"zeU99nUbS9XI7ctZhYHifJ"
    }
   }
  },
  {
   "cell_type":"code",
   "source":[
    "df_car"
   ],
   "execution_count":27,
   "outputs":[
    {
     "data":{
      "text\/html":[
       "<div>\n",
       "<style scoped>\n",
       "    .dataframe tbody tr th:only-of-type {\n",
       "        vertical-align: middle;\n",
       "    }\n",
       "\n",
       "    .dataframe tbody tr th {\n",
       "        vertical-align: top;\n",
       "    }\n",
       "\n",
       "    .dataframe thead th {\n",
       "        text-align: right;\n",
       "    }\n",
       "<\/style>\n",
       "<table border=\"1\" class=\"dataframe\">\n",
       "  <thead>\n",
       "    <tr style=\"text-align: right;\">\n",
       "      <th><\/th>\n",
       "      <th>name<\/th>\n",
       "      <th>selling_price<\/th>\n",
       "    <\/tr>\n",
       "  <\/thead>\n",
       "  <tbody>\n",
       "    <tr>\n",
       "      <th>0<\/th>\n",
       "      <td>Ford Ikon 1.6 ZXI NXt<\/td>\n",
       "      <td>20000.0<\/td>\n",
       "    <\/tr>\n",
       "    <tr>\n",
       "      <th>1<\/th>\n",
       "      <td>Ford Ikon 1.4 ZXi<\/td>\n",
       "      <td>22000.0<\/td>\n",
       "    <\/tr>\n",
       "    <tr>\n",
       "      <th>2<\/th>\n",
       "      <td>Maruti 800 EX<\/td>\n",
       "      <td>35000.0<\/td>\n",
       "    <\/tr>\n",
       "    <tr>\n",
       "      <th>3<\/th>\n",
       "      <td>Tata Nano Std BSII<\/td>\n",
       "      <td>35000.0<\/td>\n",
       "    <\/tr>\n",
       "    <tr>\n",
       "      <th>4<\/th>\n",
       "      <td>OpelCorsa 1.4 GL<\/td>\n",
       "      <td>35000.0<\/td>\n",
       "    <\/tr>\n",
       "    <tr>\n",
       "      <th>...<\/th>\n",
       "      <td>...<\/td>\n",
       "      <td>...<\/td>\n",
       "    <\/tr>\n",
       "    <tr>\n",
       "      <th>1486<\/th>\n",
       "      <td>Audi A5 Sportback<\/td>\n",
       "      <td>4700000.0<\/td>\n",
       "    <\/tr>\n",
       "    <tr>\n",
       "      <th>1487<\/th>\n",
       "      <td>BMW X5 xDrive 30d xLine<\/td>\n",
       "      <td>4950000.0<\/td>\n",
       "    <\/tr>\n",
       "    <tr>\n",
       "      <th>1488<\/th>\n",
       "      <td>Mercedes-Benz GLS 2016-2020 350d 4MATIC<\/td>\n",
       "      <td>5500000.0<\/td>\n",
       "    <\/tr>\n",
       "    <tr>\n",
       "      <th>1489<\/th>\n",
       "      <td>Mercedes-Benz S-Class S 350d Connoisseurs Edition<\/td>\n",
       "      <td>8150000.0<\/td>\n",
       "    <\/tr>\n",
       "    <tr>\n",
       "      <th>1490<\/th>\n",
       "      <td>Audi RS7 2015-2019 Sportback Performance<\/td>\n",
       "      <td>8900000.0<\/td>\n",
       "    <\/tr>\n",
       "  <\/tbody>\n",
       "<\/table>\n",
       "<p>1491 rows × 2 columns<\/p>\n",
       "<\/div>"
      ]
     },
     "metadata":{
      
     },
     "output_type":"display_data"
    }
   ],
   "metadata":{
    "datalore":{
     "type":"CODE",
     "hide_input_from_viewers":false,
     "hide_output_from_viewers":false,
     "node_id":"Xl9GlBXxD8l0GhnhXJZS7v"
    }
   }
  },
  {
   "cell_type":"code",
   "source":[
    "df_car['selling_price'].hist()"
   ],
   "execution_count":28,
   "outputs":[
    {
     "data":{
      "text\/plain":[
       "<AxesSubplot:>"
      ]
     },
     "metadata":{
      
     },
     "output_type":"display_data"
    },
    {
     "data":{
      "image\/png":"[encoded data removed]"
     },
     "metadata":{
      "image\/png":{
       
      }
     },
     "output_type":"display_data"
    }
   ],
   "metadata":{
    "datalore":{
     "type":"CODE",
     "hide_input_from_viewers":false,
     "hide_output_from_viewers":false,
     "node_id":"8KPwfpZvxUIwCxTvTqyw5B"
    }
   }
  },
  {
   "cell_type":"code",
   "source":[
    "#LOG TRANSFORMATION OF BRAND_PRICE\n",
    "\n",
    "df_car['Log_Brand_price']=np.log10(df_car['selling_price']+0.1)\n",
    "diagnostic_plots(df_car,'Log_Brand_price')"
   ],
   "execution_count":29,
   "outputs":[
    {
     "data":{
      "image\/png":"[encoded data removed]"
     },
     "metadata":{
      "image\/png":{
       
      }
     },
     "output_type":"display_data"
    }
   ],
   "metadata":{
    "datalore":{
     "type":"CODE",
     "hide_input_from_viewers":false,
     "hide_output_from_viewers":false,
     "node_id":"GEGu7k7mbtcluCcckoAp53"
    }
   }
  },
  {
   "cell_type":"code",
   "source":[
    "df_car"
   ],
   "execution_count":30,
   "outputs":[
    {
     "data":{
      "text\/html":[
       "<div>\n",
       "<style scoped>\n",
       "    .dataframe tbody tr th:only-of-type {\n",
       "        vertical-align: middle;\n",
       "    }\n",
       "\n",
       "    .dataframe tbody tr th {\n",
       "        vertical-align: top;\n",
       "    }\n",
       "\n",
       "    .dataframe thead th {\n",
       "        text-align: right;\n",
       "    }\n",
       "<\/style>\n",
       "<table border=\"1\" class=\"dataframe\">\n",
       "  <thead>\n",
       "    <tr style=\"text-align: right;\">\n",
       "      <th><\/th>\n",
       "      <th>name<\/th>\n",
       "      <th>selling_price<\/th>\n",
       "      <th>Log_Brand_price<\/th>\n",
       "    <\/tr>\n",
       "  <\/thead>\n",
       "  <tbody>\n",
       "    <tr>\n",
       "      <th>0<\/th>\n",
       "      <td>Ford Ikon 1.6 ZXI NXt<\/td>\n",
       "      <td>20000.0<\/td>\n",
       "      <td>4.301032<\/td>\n",
       "    <\/tr>\n",
       "    <tr>\n",
       "      <th>1<\/th>\n",
       "      <td>Ford Ikon 1.4 ZXi<\/td>\n",
       "      <td>22000.0<\/td>\n",
       "      <td>4.342425<\/td>\n",
       "    <\/tr>\n",
       "    <tr>\n",
       "      <th>2<\/th>\n",
       "      <td>Maruti 800 EX<\/td>\n",
       "      <td>35000.0<\/td>\n",
       "      <td>4.544069<\/td>\n",
       "    <\/tr>\n",
       "    <tr>\n",
       "      <th>3<\/th>\n",
       "      <td>Tata Nano Std BSII<\/td>\n",
       "      <td>35000.0<\/td>\n",
       "      <td>4.544069<\/td>\n",
       "    <\/tr>\n",
       "    <tr>\n",
       "      <th>4<\/th>\n",
       "      <td>OpelCorsa 1.4 GL<\/td>\n",
       "      <td>35000.0<\/td>\n",
       "      <td>4.544069<\/td>\n",
       "    <\/tr>\n",
       "    <tr>\n",
       "      <th>...<\/th>\n",
       "      <td>...<\/td>\n",
       "      <td>...<\/td>\n",
       "      <td>...<\/td>\n",
       "    <\/tr>\n",
       "    <tr>\n",
       "      <th>1486<\/th>\n",
       "      <td>Audi A5 Sportback<\/td>\n",
       "      <td>4700000.0<\/td>\n",
       "      <td>6.672098<\/td>\n",
       "    <\/tr>\n",
       "    <tr>\n",
       "      <th>1487<\/th>\n",
       "      <td>BMW X5 xDrive 30d xLine<\/td>\n",
       "      <td>4950000.0<\/td>\n",
       "      <td>6.694605<\/td>\n",
       "    <\/tr>\n",
       "    <tr>\n",
       "      <th>1488<\/th>\n",
       "      <td>Mercedes-Benz GLS 2016-2020 350d 4MATIC<\/td>\n",
       "      <td>5500000.0<\/td>\n",
       "      <td>6.740363<\/td>\n",
       "    <\/tr>\n",
       "    <tr>\n",
       "      <th>1489<\/th>\n",
       "      <td>Mercedes-Benz S-Class S 350d Connoisseurs Edition<\/td>\n",
       "      <td>8150000.0<\/td>\n",
       "      <td>6.911158<\/td>\n",
       "    <\/tr>\n",
       "    <tr>\n",
       "      <th>1490<\/th>\n",
       "      <td>Audi RS7 2015-2019 Sportback Performance<\/td>\n",
       "      <td>8900000.0<\/td>\n",
       "      <td>6.949390<\/td>\n",
       "    <\/tr>\n",
       "  <\/tbody>\n",
       "<\/table>\n",
       "<p>1491 rows × 3 columns<\/p>\n",
       "<\/div>"
      ]
     },
     "metadata":{
      
     },
     "output_type":"display_data"
    }
   ],
   "metadata":{
    "datalore":{
     "type":"CODE",
     "hide_input_from_viewers":false,
     "hide_output_from_viewers":false,
     "node_id":"xxhdBcF8yPDL5eBpwuHr46"
    }
   }
  },
  {
   "cell_type":"code",
   "source":[
    "#EXTRACTING CAR_NAMES AND BRAND PRICES\n",
    "car_names_list = df_car['name']\n",
    "car_brand_price_list = df_car['Log_Brand_price']"
   ],
   "execution_count":31,
   "outputs":[
    
   ],
   "metadata":{
    "datalore":{
     "type":"CODE",
     "hide_input_from_viewers":false,
     "hide_output_from_viewers":false,
     "node_id":"3q3D6AEjCYIQUBIANxUxdi"
    }
   }
  },
  {
   "cell_type":"code",
   "source":[
    "#CREATING NAME AND BRANDPRICE DICTIONARY\n",
    "name_brandprice_dict = dict(zip(car_names_list,car_brand_price_list))"
   ],
   "execution_count":32,
   "outputs":[
    
   ],
   "metadata":{
    "datalore":{
     "type":"CODE",
     "hide_input_from_viewers":false,
     "hide_output_from_viewers":false,
     "node_id":"LzJOEaUJVbHbhQmuUlYiPK"
    }
   }
  },
  {
   "cell_type":"code",
   "source":[
    "#ADDING A CAR_VALUE COLUMN TO OUR DATAFRAME TO  GET RID OF CAR NAMES\n",
    "df['Car_value'] = df['name'].map(name_brandprice_dict)"
   ],
   "execution_count":33,
   "outputs":[
    
   ],
   "metadata":{
    "datalore":{
     "type":"CODE",
     "hide_input_from_viewers":false,
     "hide_output_from_viewers":false,
     "node_id":"DGEOszGfQ4TVjDzIWOCOXr"
    }
   }
  },
  {
   "cell_type":"code",
   "source":[
    "df.columns"
   ],
   "execution_count":34,
   "outputs":[
    {
     "data":{
      "text\/plain":[
       "Index(['name', 'year', 'selling_price', 'km_driven', 'Log_Price',\n",
       "       'Log_km_driven', 'seller_type_individual', 'seller_type_dealer',\n",
       "       'seller_type_Trustmark Dealer', 'transmission_manual',\n",
       "       'first_owner_indicator', 'second_owner_indicator',\n",
       "       'third_owner_indicator', 'fourth_owner_indicator',\n",
       "       'test_drive_indicator', 'fuel_petrol', 'fuel_diesel', 'fuel_others',\n",
       "       'Car_value'],\n",
       "      dtype='object')"
      ]
     },
     "metadata":{
      
     },
     "output_type":"display_data"
    }
   ],
   "metadata":{
    "datalore":{
     "type":"CODE",
     "hide_input_from_viewers":false,
     "hide_output_from_viewers":false,
     "node_id":"hs1wX94l2xlil8aX2lWGqU"
    }
   }
  },
  {
   "cell_type":"code",
   "source":[
    "final_features_list = ['year','Log_km_driven','seller_type_individual', 'seller_type_dealer',\n",
    "       'seller_type_Trustmark Dealer', 'transmission_manual',\n",
    "       'first_owner_indicator', 'second_owner_indicator',\n",
    "       'third_owner_indicator', 'fourth_owner_indicator',\n",
    "       'test_drive_indicator', 'fuel_petrol', 'fuel_diesel', 'fuel_others',\n",
    "       'Car_value']"
   ],
   "execution_count":35,
   "outputs":[
    
   ],
   "metadata":{
    "datalore":{
     "type":"CODE",
     "hide_input_from_viewers":false,
     "hide_output_from_viewers":false,
     "node_id":"i6qvgyVIjeGVlxHTAcDVkF"
    }
   }
  },
  {
   "cell_type":"code",
   "source":[
    "df_final = df[final_features_list]"
   ],
   "execution_count":36,
   "outputs":[
    
   ],
   "metadata":{
    "datalore":{
     "type":"CODE",
     "hide_input_from_viewers":false,
     "hide_output_from_viewers":false,
     "node_id":"Gt74OTkEbzGwquJ5IzyStL"
    }
   }
  },
  {
   "cell_type":"code",
   "source":[
    " ## Correlation\n",
    "plt.figure(figsize=(15,8))\n",
    "correlation = df_final.corr()\n",
    "sns.heatmap(abs(correlation), annot=True, cmap='coolwarm')"
   ],
   "execution_count":37,
   "outputs":[
    {
     "data":{
      "text\/plain":[
       "<AxesSubplot:>"
      ]
     },
     "metadata":{
      
     },
     "output_type":"display_data"
    },
    {
     "data":{
      "image\/png":"[encoded data removed]"
     },
     "metadata":{
      "image\/png":{
       
      }
     },
     "output_type":"display_data"
    }
   ],
   "metadata":{
    "datalore":{
     "type":"CODE",
     "hide_input_from_viewers":false,
     "hide_output_from_viewers":false,
     "node_id":"O4468JsdG3wevEQQzbKqxr"
    }
   }
  },
  {
   "cell_type":"code",
   "source":[
    "#Multicollinearity\n",
    "from statsmodels.stats.outliers_influence import variance_inflation_factor\n",
    "def calc_vif(x):\n",
    "\n",
    "    # Calculating VIF\n",
    "    vif = pd.DataFrame()\n",
    "    vif[\"variables\"] = x.columns\n",
    "    vif[\"VIF\"] = [variance_inflation_factor(x.values, i) for i in range(x.shape[1])]\n",
    "\n",
    "    return vif"
   ],
   "execution_count":41,
   "outputs":[
    
   ],
   "metadata":{
    "datalore":{
     "type":"CODE",
     "hide_input_from_viewers":false,
     "hide_output_from_viewers":false,
     "node_id":"R6Om7UpyZTXzCV5HtDj5DC"
    }
   }
  },
  {
   "cell_type":"code",
   "source":[
    "calc_vif(df_final[[i for i in df_final.describe().columns if i not in ['seller_type_individual','seller_type_dealer','fuel_petrol','fuel_diesel','fuel_others'\n",
    "                                                                     'seller_type_Trustmark Dealer','first_owner_indicator',\n",
    "                                                                     'second_owner_indicator','third_owner_indicator','fourth_owner_indicator','test_drive_indicator']]])"
   ],
   "execution_count":43,
   "outputs":[
    {
     "data":{
      "text\/html":[
       "<div>\n",
       "<style scoped>\n",
       "    .dataframe tbody tr th:only-of-type {\n",
       "        vertical-align: middle;\n",
       "    }\n",
       "\n",
       "    .dataframe tbody tr th {\n",
       "        vertical-align: top;\n",
       "    }\n",
       "\n",
       "    .dataframe thead th {\n",
       "        text-align: right;\n",
       "    }\n",
       "<\/style>\n",
       "<table border=\"1\" class=\"dataframe\">\n",
       "  <thead>\n",
       "    <tr style=\"text-align: right;\">\n",
       "      <th><\/th>\n",
       "      <th>variables<\/th>\n",
       "      <th>VIF<\/th>\n",
       "    <\/tr>\n",
       "  <\/thead>\n",
       "  <tbody>\n",
       "    <tr>\n",
       "      <th>0<\/th>\n",
       "      <td>year<\/td>\n",
       "      <td>665.666156<\/td>\n",
       "    <\/tr>\n",
       "    <tr>\n",
       "      <th>1<\/th>\n",
       "      <td>Log_km_driven<\/td>\n",
       "      <td>152.308703<\/td>\n",
       "    <\/tr>\n",
       "    <tr>\n",
       "      <th>2<\/th>\n",
       "      <td>seller_type_Trustmark Dealer<\/td>\n",
       "      <td>1.049347<\/td>\n",
       "    <\/tr>\n",
       "    <tr>\n",
       "      <th>3<\/th>\n",
       "      <td>transmission_manual<\/td>\n",
       "      <td>11.929849<\/td>\n",
       "    <\/tr>\n",
       "    <tr>\n",
       "      <th>4<\/th>\n",
       "      <td>fuel_others<\/td>\n",
       "      <td>1.022792<\/td>\n",
       "    <\/tr>\n",
       "    <tr>\n",
       "      <th>5<\/th>\n",
       "      <td>Car_value<\/td>\n",
       "      <td>354.862624<\/td>\n",
       "    <\/tr>\n",
       "  <\/tbody>\n",
       "<\/table>\n",
       "<\/div>"
      ]
     },
     "metadata":{
      
     },
     "output_type":"display_data"
    }
   ],
   "metadata":{
    "datalore":{
     "type":"CODE",
     "hide_input_from_viewers":false,
     "hide_output_from_viewers":false,
     "node_id":"NJqvBceGu8mXhV7qfcXyVr"
    }
   }
  },
  {
   "cell_type":"code",
   "source":[
    "#CREATING INPUT AND OUTPUT FEATURES\n",
    "X = df_final\n",
    "y = df['Log_Price']\n",
    "\n"
   ],
   "execution_count":44,
   "outputs":[
    
   ],
   "metadata":{
    "datalore":{
     "type":"CODE",
     "hide_input_from_viewers":false,
     "hide_output_from_viewers":false,
     "node_id":"oBA3ta80HnjbPXz1UqiR6n"
    }
   }
  },
  {
   "cell_type":"code",
   "source":[
    "df_final"
   ],
   "execution_count":45,
   "outputs":[
    {
     "data":{
      "text\/html":[
       "<div>\n",
       "<style scoped>\n",
       "    .dataframe tbody tr th:only-of-type {\n",
       "        vertical-align: middle;\n",
       "    }\n",
       "\n",
       "    .dataframe tbody tr th {\n",
       "        vertical-align: top;\n",
       "    }\n",
       "\n",
       "    .dataframe thead th {\n",
       "        text-align: right;\n",
       "    }\n",
       "<\/style>\n",
       "<table border=\"1\" class=\"dataframe\">\n",
       "  <thead>\n",
       "    <tr style=\"text-align: right;\">\n",
       "      <th><\/th>\n",
       "      <th>year<\/th>\n",
       "      <th>Log_km_driven<\/th>\n",
       "      <th>seller_type_individual<\/th>\n",
       "      <th>seller_type_dealer<\/th>\n",
       "      <th>seller_type_Trustmark Dealer<\/th>\n",
       "      <th>transmission_manual<\/th>\n",
       "      <th>first_owner_indicator<\/th>\n",
       "      <th>second_owner_indicator<\/th>\n",
       "      <th>third_owner_indicator<\/th>\n",
       "      <th>fourth_owner_indicator<\/th>\n",
       "      <th>test_drive_indicator<\/th>\n",
       "      <th>fuel_petrol<\/th>\n",
       "      <th>fuel_diesel<\/th>\n",
       "      <th>fuel_others<\/th>\n",
       "      <th>Car_value<\/th>\n",
       "    <\/tr>\n",
       "  <\/thead>\n",
       "  <tbody>\n",
       "    <tr>\n",
       "      <th>0<\/th>\n",
       "      <td>2007<\/td>\n",
       "      <td>4.845099<\/td>\n",
       "      <td>1<\/td>\n",
       "      <td>0<\/td>\n",
       "      <td>0<\/td>\n",
       "      <td>1<\/td>\n",
       "      <td>1<\/td>\n",
       "      <td>0<\/td>\n",
       "      <td>0<\/td>\n",
       "      <td>0<\/td>\n",
       "      <td>0<\/td>\n",
       "      <td>1<\/td>\n",
       "      <td>0<\/td>\n",
       "      <td>0<\/td>\n",
       "      <td>4.974732<\/td>\n",
       "    <\/tr>\n",
       "    <tr>\n",
       "      <th>1<\/th>\n",
       "      <td>2007<\/td>\n",
       "      <td>4.698971<\/td>\n",
       "      <td>1<\/td>\n",
       "      <td>0<\/td>\n",
       "      <td>0<\/td>\n",
       "      <td>1<\/td>\n",
       "      <td>1<\/td>\n",
       "      <td>0<\/td>\n",
       "      <td>0<\/td>\n",
       "      <td>0<\/td>\n",
       "      <td>0<\/td>\n",
       "      <td>1<\/td>\n",
       "      <td>0<\/td>\n",
       "      <td>0<\/td>\n",
       "      <td>5.159618<\/td>\n",
       "    <\/tr>\n",
       "    <tr>\n",
       "      <th>2<\/th>\n",
       "      <td>2012<\/td>\n",
       "      <td>5.000000<\/td>\n",
       "      <td>1<\/td>\n",
       "      <td>0<\/td>\n",
       "      <td>0<\/td>\n",
       "      <td>1<\/td>\n",
       "      <td>1<\/td>\n",
       "      <td>0<\/td>\n",
       "      <td>0<\/td>\n",
       "      <td>0<\/td>\n",
       "      <td>0<\/td>\n",
       "      <td>0<\/td>\n",
       "      <td>1<\/td>\n",
       "      <td>0<\/td>\n",
       "      <td>5.690786<\/td>\n",
       "    <\/tr>\n",
       "    <tr>\n",
       "      <th>3<\/th>\n",
       "      <td>2017<\/td>\n",
       "      <td>4.662759<\/td>\n",
       "      <td>1<\/td>\n",
       "      <td>0<\/td>\n",
       "      <td>0<\/td>\n",
       "      <td>1<\/td>\n",
       "      <td>1<\/td>\n",
       "      <td>0<\/td>\n",
       "      <td>0<\/td>\n",
       "      <td>0<\/td>\n",
       "      <td>0<\/td>\n",
       "      <td>1<\/td>\n",
       "      <td>0<\/td>\n",
       "      <td>0<\/td>\n",
       "      <td>5.361728<\/td>\n",
       "    <\/tr>\n",
       "    <tr>\n",
       "      <th>4<\/th>\n",
       "      <td>2014<\/td>\n",
       "      <td>5.149219<\/td>\n",
       "      <td>1<\/td>\n",
       "      <td>0<\/td>\n",
       "      <td>0<\/td>\n",
       "      <td>1<\/td>\n",
       "      <td>0<\/td>\n",
       "      <td>1<\/td>\n",
       "      <td>0<\/td>\n",
       "      <td>0<\/td>\n",
       "      <td>0<\/td>\n",
       "      <td>0<\/td>\n",
       "      <td>1<\/td>\n",
       "      <td>0<\/td>\n",
       "      <td>5.724731<\/td>\n",
       "    <\/tr>\n",
       "    <tr>\n",
       "      <th>...<\/th>\n",
       "      <td>...<\/td>\n",
       "      <td>...<\/td>\n",
       "      <td>...<\/td>\n",
       "      <td>...<\/td>\n",
       "      <td>...<\/td>\n",
       "      <td>...<\/td>\n",
       "      <td>...<\/td>\n",
       "      <td>...<\/td>\n",
       "      <td>...<\/td>\n",
       "      <td>...<\/td>\n",
       "      <td>...<\/td>\n",
       "      <td>...<\/td>\n",
       "      <td>...<\/td>\n",
       "      <td>...<\/td>\n",
       "      <td>...<\/td>\n",
       "    <\/tr>\n",
       "    <tr>\n",
       "      <th>4335<\/th>\n",
       "      <td>2014<\/td>\n",
       "      <td>4.903091<\/td>\n",
       "      <td>1<\/td>\n",
       "      <td>0<\/td>\n",
       "      <td>0<\/td>\n",
       "      <td>1<\/td>\n",
       "      <td>0<\/td>\n",
       "      <td>1<\/td>\n",
       "      <td>0<\/td>\n",
       "      <td>0<\/td>\n",
       "      <td>0<\/td>\n",
       "      <td>0<\/td>\n",
       "      <td>1<\/td>\n",
       "      <td>0<\/td>\n",
       "      <td>5.569374<\/td>\n",
       "    <\/tr>\n",
       "    <tr>\n",
       "      <th>4336<\/th>\n",
       "      <td>2014<\/td>\n",
       "      <td>4.903091<\/td>\n",
       "      <td>1<\/td>\n",
       "      <td>0<\/td>\n",
       "      <td>0<\/td>\n",
       "      <td>1<\/td>\n",
       "      <td>0<\/td>\n",
       "      <td>1<\/td>\n",
       "      <td>0<\/td>\n",
       "      <td>0<\/td>\n",
       "      <td>0<\/td>\n",
       "      <td>0<\/td>\n",
       "      <td>1<\/td>\n",
       "      <td>0<\/td>\n",
       "      <td>5.612783<\/td>\n",
       "    <\/tr>\n",
       "    <tr>\n",
       "      <th>4337<\/th>\n",
       "      <td>2009<\/td>\n",
       "      <td>4.919079<\/td>\n",
       "      <td>1<\/td>\n",
       "      <td>0<\/td>\n",
       "      <td>0<\/td>\n",
       "      <td>1<\/td>\n",
       "      <td>0<\/td>\n",
       "      <td>1<\/td>\n",
       "      <td>0<\/td>\n",
       "      <td>0<\/td>\n",
       "      <td>0<\/td>\n",
       "      <td>1<\/td>\n",
       "      <td>0<\/td>\n",
       "      <td>0<\/td>\n",
       "      <td>4.949390<\/td>\n",
       "    <\/tr>\n",
       "    <tr>\n",
       "      <th>4338<\/th>\n",
       "      <td>2016<\/td>\n",
       "      <td>4.954243<\/td>\n",
       "      <td>1<\/td>\n",
       "      <td>0<\/td>\n",
       "      <td>0<\/td>\n",
       "      <td>1<\/td>\n",
       "      <td>1<\/td>\n",
       "      <td>0<\/td>\n",
       "      <td>0<\/td>\n",
       "      <td>0<\/td>\n",
       "      <td>0<\/td>\n",
       "      <td>0<\/td>\n",
       "      <td>1<\/td>\n",
       "      <td>0<\/td>\n",
       "      <td>6.074329<\/td>\n",
       "    <\/tr>\n",
       "    <tr>\n",
       "      <th>4339<\/th>\n",
       "      <td>2016<\/td>\n",
       "      <td>4.602061<\/td>\n",
       "      <td>1<\/td>\n",
       "      <td>0<\/td>\n",
       "      <td>0<\/td>\n",
       "      <td>1<\/td>\n",
       "      <td>1<\/td>\n",
       "      <td>0<\/td>\n",
       "      <td>0<\/td>\n",
       "      <td>0<\/td>\n",
       "      <td>0<\/td>\n",
       "      <td>1<\/td>\n",
       "      <td>0<\/td>\n",
       "      <td>0<\/td>\n",
       "      <td>5.444565<\/td>\n",
       "    <\/tr>\n",
       "  <\/tbody>\n",
       "<\/table>\n",
       "<p>4340 rows × 15 columns<\/p>\n",
       "<\/div>"
      ]
     },
     "metadata":{
      
     },
     "output_type":"display_data"
    }
   ],
   "metadata":{
    "datalore":{
     "type":"CODE",
     "hide_input_from_viewers":false,
     "hide_output_from_viewers":false,
     "node_id":"UL4DOnynJutOTazmAwXSym"
    }
   }
  },
  {
   "cell_type":"code",
   "source":[
    "#TRAIN-TEST-SPLIT (30% for testing - 70% for training)\n",
    "from sklearn.model_selection import train_test_split \n",
    "X_train, X_test, y_train, y_test = train_test_split( X,y , test_size = 0.3, random_state = 0) \n",
    "print(X_train.shape)\n",
    "print(X_test.shape)"
   ],
   "execution_count":46,
   "outputs":[
    {
     "name":"stdout",
     "text":[
      "(3038, 15)\n",
      "(1302, 15)\n"
     ],
     "output_type":"stream"
    }
   ],
   "metadata":{
    "datalore":{
     "type":"CODE",
     "hide_input_from_viewers":false,
     "hide_output_from_viewers":false,
     "node_id":"vf7K42QAlPIhWD1qF5gvVX"
    }
   }
  },
  {
   "cell_type":"code",
   "source":[
    "#IMPORTING LINEAR REGRESSION AND FITTING THE DATA\n",
    "from sklearn.linear_model import LinearRegression\n",
    "\n",
    "reg = LinearRegression().fit(X_train, y_train)"
   ],
   "execution_count":47,
   "outputs":[
    
   ],
   "metadata":{
    "datalore":{
     "type":"CODE",
     "hide_input_from_viewers":false,
     "hide_output_from_viewers":false,
     "node_id":"MT52vIslnqUdyA2kyvBoD4"
    }
   }
  },
  {
   "cell_type":"code",
   "source":[
    "#CHECKING THE SCORE\n",
    "reg.score(X_train, y_train)"
   ],
   "execution_count":49,
   "outputs":[
    {
     "data":{
      "text\/plain":[
       "0.9402597604771782"
      ]
     },
     "metadata":{
      
     },
     "output_type":"display_data"
    }
   ],
   "metadata":{
    "datalore":{
     "type":"CODE",
     "hide_input_from_viewers":false,
     "hide_output_from_viewers":false,
     "node_id":"W14L8CMhipVHcnJWtB8s2H"
    }
   }
  },
  {
   "cell_type":"code",
   "source":[
    "my_test_value = df_final.iloc[1].reset_index()[1].tolist()"
   ],
   "execution_count":50,
   "outputs":[
    
   ],
   "metadata":{
    "datalore":{
     "type":"CODE",
     "hide_input_from_viewers":false,
     "hide_output_from_viewers":false,
     "node_id":"m6yubZWwJQeazhUUBg710Y"
    }
   }
  },
  {
   "cell_type":"code",
   "source":[
    "10**reg.predict([my_test_value]) "
   ],
   "execution_count":51,
   "outputs":[
    {
     "name":"stderr",
     "text":[
      "\/opt\/python\/envs\/default\/lib\/python3.8\/site-packages\/sklearn\/base.py:445: UserWarning: X does not have valid feature names, but LinearRegression was fitted with feature names\n",
      "  warnings.warn(\n"
     ],
     "output_type":"stream"
    },
    {
     "data":{
      "text\/html":[
       
      ]
     },
     "metadata":{
      
     },
     "output_type":"display_data"
    }
   ],
   "metadata":{
    "datalore":{
     "type":"CODE",
     "hide_input_from_viewers":false,
     "hide_output_from_viewers":false,
     "node_id":"iEEZLXi1hS5cWgr3DmRc8U"
    }
   }
  },
  {
   "cell_type":"markdown",
   "source":[
    "## WE OBTAINED A SCORE OF 94%"
   ],
   "attachments":{
    
   },
   "metadata":{
    "datalore":{
     "type":"MD",
     "hide_input_from_viewers":false,
     "hide_output_from_viewers":false,
     "node_id":"ROuiQWk8ZuoWlNCsqWKSt9"
    }
   }
  },
  {
   "cell_type":"code",
   "source":[
    "#THE COEFFICIENT LIST \n",
    "reg.coef_"
   ],
   "execution_count":52,
   "outputs":[
    {
     "data":{
      "text\/html":[
       
      ]
     },
     "metadata":{
      
     },
     "output_type":"display_data"
    }
   ],
   "metadata":{
    "datalore":{
     "type":"CODE",
     "hide_input_from_viewers":false,
     "hide_output_from_viewers":false,
     "node_id":"5lDGq4Hb8iJ0PMvgWfbaWf"
    }
   }
  },
  {
   "cell_type":"code",
   "source":[
    "#THE INTERCEPT\n",
    "reg.intercept_"
   ],
   "execution_count":53,
   "outputs":[
    {
     "data":{
      "text\/plain":[
       "-12.664802909193025"
      ]
     },
     "metadata":{
      
     },
     "output_type":"display_data"
    }
   ],
   "metadata":{
    "datalore":{
     "type":"CODE",
     "hide_input_from_viewers":false,
     "hide_output_from_viewers":false,
     "node_id":"XcsVPP8Q5uTxtOmnZtYzQm"
    }
   }
  },
  {
   "cell_type":"code",
   "source":[
    "y_pred = reg.predict(X_test)"
   ],
   "execution_count":null,
   "outputs":[
    
   ],
   "metadata":{
    "datalore":{
     "type":"CODE",
     "hide_input_from_viewers":false,
     "hide_output_from_viewers":false,
     "node_id":"EACXWCYFmRRsSi3sa865kC"
    }
   }
  },
  {
   "cell_type":"code",
   "source":[
    "#PRINTING MSE AND RMSE SOCRES\n",
    "\n",
    "from sklearn.metrics import mean_squared_error\n",
    "\n",
    "MSE  = mean_squared_error(10**y_test, 10**y_pred)\n",
    "print(\"MSE :\" , MSE)\n",
    "\n",
    "RMSE = np.sqrt(MSE)\n",
    "print(\"RMSE :\" ,RMSE)"
   ],
   "execution_count":59,
   "outputs":[
    {
     "name":"stdout",
     "text":[
      "MSE : 8658695683.479467\n",
      "RMSE : 93052.11272980033\n"
     ],
     "output_type":"stream"
    }
   ],
   "metadata":{
    "datalore":{
     "type":"CODE",
     "hide_input_from_viewers":false,
     "hide_output_from_viewers":false,
     "node_id":"3uL7GQxxBSg7ngQb7U2rgl"
    }
   }
  },
  {
   "cell_type":"code",
   "source":[
    "from sklearn.metrics import r2_score\n",
    "r2 = r2_score(10**y_test, 10**y_pred)\n",
    "print(\"R2 Score :\" ,r2)\n",
    "print(\"Adjusted R2 Score: \",1-(1-r2_score(10**(y_test), 10**(y_pred)))*((X_test.shape[0]-1)\/(X_test.shape[0]-X_test.shape[1]-1)))"
   ],
   "execution_count":60,
   "outputs":[
    {
     "name":"stdout",
     "text":[
      "R2 Score : 0.974604974435236\n",
      "Adjusted R2 Score:  0.9743087649613079\n"
     ],
     "output_type":"stream"
    }
   ],
   "metadata":{
    "datalore":{
     "type":"CODE",
     "hide_input_from_viewers":false,
     "hide_output_from_viewers":false,
     "node_id":"WzWQnqZQ4FZYrywUJjO7vl"
    }
   }
  },
  {
   "cell_type":"markdown",
   "source":[
    "## Lasso Regression"
   ],
   "attachments":{
    
   },
   "metadata":{
    "datalore":{
     "type":"MD",
     "hide_input_from_viewers":false,
     "hide_output_from_viewers":false,
     "node_id":"LlOb5nQkIu4TSDaWFafwB5"
    }
   }
  },
  {
   "cell_type":"code",
   "source":[
    "import warnings\n",
    "warnings.filterwarnings('ignore')\n",
    "from sklearn.linear_model import Lasso\n",
    "lasso  = Lasso(alpha=0.0000001 , max_iter= 3000)\n",
    "\n",
    "lasso.fit(X_train, y_train)"
   ],
   "execution_count":99,
   "outputs":[
    {
     "data":{
      "text\/plain":[
       "Lasso(alpha=1e-07, max_iter=3000)"
      ]
     },
     "metadata":{
      
     },
     "output_type":"display_data"
    }
   ],
   "metadata":{
    "datalore":{
     "type":"CODE",
     "hide_input_from_viewers":false,
     "hide_output_from_viewers":false,
     "node_id":"gc5uXb916xx8VcbyBRJqdI"
    }
   }
  },
  {
   "cell_type":"code",
   "source":[
    "lasso.score(X_train, y_train)"
   ],
   "execution_count":100,
   "outputs":[
    {
     "data":{
      "text\/plain":[
       "0.9402597604387959"
      ]
     },
     "metadata":{
      
     },
     "output_type":"display_data"
    }
   ],
   "metadata":{
    "datalore":{
     "type":"CODE",
     "hide_input_from_viewers":false,
     "hide_output_from_viewers":false,
     "node_id":"dK4MPMLcOoLfAsYMZSp6rJ"
    }
   }
  },
  {
   "cell_type":"code",
   "source":[
    "### Cross validation\n",
    "from sklearn.model_selection import GridSearchCV\n",
    "lasso = Lasso()\n",
    "parameters = {'alpha': [1e-15,1e-13,1e-10,1e-8,1e-5,1e-4,1e-3,1e-2,1e-1,1,5,10,20,30,40,45,50,55,60,100,0.0014,0.0000001]}\n",
    "lasso_regressor = GridSearchCV(lasso, parameters, scoring='neg_mean_squared_error', cv=5)\n",
    "lasso_regressor.fit(X_train, y_train)"
   ],
   "execution_count":101,
   "outputs":[
    {
     "data":{
      "text\/plain":[
       "GridSearchCV(cv=5, estimator=Lasso(),\n",
       "             param_grid={'alpha': [1e-15, 1e-13, 1e-10, 1e-08, 1e-05, 0.0001,\n",
       "                                   0.001, 0.01, 0.1, 1, 5, 10, 20, 30, 40, 45,\n",
       "                                   50, 55, 60, 100, 0.0014, 1e-07]},\n",
       "             scoring='neg_mean_squared_error')"
      ]
     },
     "metadata":{
      
     },
     "output_type":"display_data"
    }
   ],
   "metadata":{
    "datalore":{
     "type":"CODE",
     "hide_input_from_viewers":false,
     "hide_output_from_viewers":false,
     "node_id":"BeiKk0DO2tVQ1zkpQdm5jv"
    }
   }
  },
  {
   "cell_type":"code",
   "source":[
    "print(\"The best fit alpha value is found out to be :\" ,lasso_regressor.best_params_)\n",
    "print(\"\\nUsing \",lasso_regressor.best_params_, \" the negative mean squared error is: \", lasso_regressor.best_score_)"
   ],
   "execution_count":102,
   "outputs":[
    {
     "name":"stdout",
     "text":[
      "The best fit alpha value is found out to be : {'alpha': 0.0001}\n",
      "\n",
      "Using  {'alpha': 0.0001}  the negative mean squared error is:  -0.008025009012605408\n"
     ],
     "output_type":"stream"
    }
   ],
   "metadata":{
    "datalore":{
     "type":"CODE",
     "hide_input_from_viewers":false,
     "hide_output_from_viewers":false,
     "node_id":"XpOsbDb7Qk8J0iXj1l55Rx"
    }
   }
  },
  {
   "cell_type":"code",
   "source":[
    "y_pred_lasso = lasso_regressor.predict(X_test)"
   ],
   "execution_count":103,
   "outputs":[
    
   ],
   "metadata":{
    "datalore":{
     "type":"CODE",
     "hide_input_from_viewers":false,
     "hide_output_from_viewers":false,
     "node_id":"N6S5sumcBb2cXIWXXxUlKd"
    }
   }
  },
  {
   "cell_type":"code",
   "source":[
    "MSE  = mean_squared_error(10**(y_test), 10**(y_pred_lasso))\n",
    "print(\"MSE :\" , MSE)\n",
    "\n",
    "RMSE = np.sqrt(MSE)\n",
    "print(\"RMSE :\" ,RMSE)\n",
    "\n",
    "r2 = r2_score(10**(y_test), 10**(y_pred_lasso))\n",
    "print(\"R2 :\" ,r2)\n",
    "print(\"Adjusted R2 : \",1-(1-r2_score(10**(y_test), 10**(y_pred_lasso)))*((X_test.shape[0]-1)\/(X_test.shape[0]-X_test.shape[1]-1)))"
   ],
   "execution_count":104,
   "outputs":[
    {
     "name":"stdout",
     "text":[
      "MSE : 8687704458.940369\n",
      "RMSE : 93207.85620826374\n",
      "R2 : 0.97451989480877\n",
      "Adjusted R2 :  0.9742226929597276\n"
     ],
     "output_type":"stream"
    }
   ],
   "metadata":{
    "datalore":{
     "type":"CODE",
     "hide_input_from_viewers":false,
     "hide_output_from_viewers":false,
     "node_id":"s7AWBnex5l4qZAOhaKLejC"
    }
   }
  },
  {
   "cell_type":"markdown",
   "source":[
    "## RIDGE REGRESSION"
   ],
   "attachments":{
    
   },
   "metadata":{
    "datalore":{
     "type":"MD",
     "hide_input_from_viewers":false,
     "hide_output_from_viewers":false,
     "node_id":"l2Op8m4ofu6SEzlJqKxtdk"
    }
   }
  },
  {
   "cell_type":"code",
   "source":[
    "from sklearn.linear_model import Ridge\n",
    "ridge = Ridge()\n",
    "parameters = {'alpha': [1e-15,1e-10,1e-8,1e-5,1e-4,1e-3,1e-2,1,5,10,20,30,40,45,50,55,60,100,0.002,0.00001]}\n",
    "ridge_regressor = GridSearchCV(ridge, parameters, scoring='neg_mean_squared_error', cv=3)\n",
    "ridge_regressor.fit(X_train,y_train)"
   ],
   "execution_count":107,
   "outputs":[
    {
     "data":{
      "text\/plain":[
       "GridSearchCV(cv=3, estimator=Ridge(),\n",
       "             param_grid={'alpha': [1e-15, 1e-10, 1e-08, 1e-05, 0.0001, 0.001,\n",
       "                                   0.01, 1, 5, 10, 20, 30, 40, 45, 50, 55, 60,\n",
       "                                   100, 0.002, 1e-05]},\n",
       "             scoring='neg_mean_squared_error')"
      ]
     },
     "metadata":{
      
     },
     "output_type":"display_data"
    }
   ],
   "metadata":{
    "datalore":{
     "type":"CODE",
     "hide_input_from_viewers":false,
     "hide_output_from_viewers":false,
     "node_id":"ZWceyiWvbJyIIJufARYQFl"
    }
   }
  },
  {
   "cell_type":"code",
   "source":[
    "print(\"The best fit alpha value is found out to be :\" ,ridge_regressor.best_params_)\n",
    "print(\"\\nUsing \",ridge_regressor.best_params_, \" the negative mean squared error is: \", ridge_regressor.best_score_)"
   ],
   "execution_count":108,
   "outputs":[
    {
     "name":"stdout",
     "text":[
      "The best fit alpha value is found out to be : {'alpha': 0.01}\n",
      "\n",
      "Using  {'alpha': 0.01}  the negative mean squared error is:  -0.008003864960159042\n"
     ],
     "output_type":"stream"
    }
   ],
   "metadata":{
    "datalore":{
     "type":"CODE",
     "hide_input_from_viewers":false,
     "hide_output_from_viewers":false,
     "node_id":"QcTTqyP7FZx1Fgnp2KDCRa"
    }
   }
  },
  {
   "cell_type":"code",
   "source":[
    "y_pred_ridge = ridge_regressor.predict(X_test)"
   ],
   "execution_count":109,
   "outputs":[
    
   ],
   "metadata":{
    "datalore":{
     "type":"CODE",
     "hide_input_from_viewers":false,
     "hide_output_from_viewers":false,
     "node_id":"16G91VJ3ddCpXX8EF3TWfD"
    }
   }
  },
  {
   "cell_type":"code",
   "source":[
    "MSE  = mean_squared_error(10**(y_test), 10**(y_pred_ridge))\n",
    "print(\"MSE :\" , MSE)\n",
    "\n",
    "RMSE = np.sqrt(MSE)\n",
    "print(\"RMSE :\" ,RMSE)\n",
    "\n",
    "r2 = r2_score(10**(y_test), 10**(y_pred_ridge))\n",
    "print(\"R2 :\" ,r2)\n",
    "print(\"Adjusted R2 : \",1-(1-r2_score(10**(y_test), 10**(y_pred_ridge)))*((X_test.shape[0]-1)\/(X_test.shape[0]-X_test.shape[1]-1)))"
   ],
   "execution_count":110,
   "outputs":[
    {
     "name":"stdout",
     "text":[
      "MSE : 8660622279.148582\n",
      "RMSE : 93062.4643943442\n",
      "R2 : 0.9745993239368169\n",
      "Adjusted R2 :  0.9743030485550535\n"
     ],
     "output_type":"stream"
    }
   ],
   "metadata":{
    "datalore":{
     "type":"CODE",
     "hide_input_from_viewers":false,
     "hide_output_from_viewers":false,
     "node_id":"e6H8vB5QqJzkhkz5DjFIzL"
    }
   }
  },
  {
   "cell_type":"markdown",
   "source":[
    "## ELASTICNET REGRESSION"
   ],
   "attachments":{
    
   },
   "metadata":{
    "datalore":{
     "type":"MD",
     "hide_input_from_viewers":false,
     "hide_output_from_viewers":false,
     "node_id":"t7kk1y1CVrlBnUtPlZdhNB"
    }
   }
  },
  {
   "cell_type":"code",
   "source":[
    "from sklearn.linear_model import ElasticNet\n",
    "#a * L1 + b * L2\n",
    "#alpha = a + b and l1_ratio = a \/ (a + b)\n",
    "elasticnet = ElasticNet(alpha=0.1, l1_ratio=0.5)"
   ],
   "execution_count":128,
   "outputs":[
    
   ],
   "metadata":{
    "datalore":{
     "type":"CODE",
     "hide_input_from_viewers":false,
     "hide_output_from_viewers":false,
     "node_id":"YJVfTEujz8Lu2YE91c45kO"
    }
   }
  },
  {
   "cell_type":"code",
   "source":[
    "#FITTING WITH DEFAULT ALPHA VALUE\n",
    "elasticnet.fit(X_train,y_train)"
   ],
   "execution_count":129,
   "outputs":[
    {
     "data":{
      "text\/plain":[
       "ElasticNet(alpha=0.1)"
      ]
     },
     "metadata":{
      
     },
     "output_type":"display_data"
    }
   ],
   "metadata":{
    "datalore":{
     "type":"CODE",
     "hide_input_from_viewers":false,
     "hide_output_from_viewers":false,
     "node_id":"zY7XDmsvPiVlxsv5YMv5zg"
    }
   }
  },
  {
   "cell_type":"code",
   "source":[
    "elasticnet.score(X_train, y_train)"
   ],
   "execution_count":130,
   "outputs":[
    {
     "data":{
      "text\/plain":[
       "0.6076734148609518"
      ]
     },
     "metadata":{
      
     },
     "output_type":"display_data"
    }
   ],
   "metadata":{
    "datalore":{
     "type":"CODE",
     "hide_input_from_viewers":false,
     "hide_output_from_viewers":false,
     "node_id":"sUcecD7Hzq3uAzkp5fy8m6"
    }
   }
  },
  {
   "cell_type":"code",
   "source":[
    "y_pred_en = elasticnet.predict(X_test)"
   ],
   "execution_count":131,
   "outputs":[
    
   ],
   "metadata":{
    "datalore":{
     "type":"CODE",
     "hide_input_from_viewers":false,
     "hide_output_from_viewers":false,
     "node_id":"z7PZRqRaIlP3JTp9s9A8oq"
    }
   }
  },
  {
   "cell_type":"code",
   "source":[
    "MSE  = mean_squared_error(10**(y_test), 10**(y_pred_en))\n",
    "print(\"MSE :\" , MSE)\n",
    "\n",
    "RMSE = np.sqrt(MSE)\n",
    "print(\"RMSE :\" ,RMSE)\n",
    "\n",
    "r2 = r2_score(10**(y_test), 10**(y_pred_en))\n",
    "print(\"R2 :\" ,r2)\n",
    "print(\"Adjusted R2 : \",1-(1-r2_score(10**(y_test), 10**(y_pred_en)))*((X_test.shape[0]-1)\/(X_test.shape[0]-X_test.shape[1]-1)))"
   ],
   "execution_count":132,
   "outputs":[
    {
     "name":"stdout",
     "text":[
      "MSE : 249956522851.312\n",
      "RMSE : 499956.52096088516\n",
      "R2 : 0.2669043329470815\n",
      "Adjusted R2 :  0.2583534503609277\n"
     ],
     "output_type":"stream"
    }
   ],
   "metadata":{
    "datalore":{
     "type":"CODE",
     "hide_input_from_viewers":false,
     "hide_output_from_viewers":false,
     "node_id":"9W4bSIEWNXnmGw610nZlY9"
    }
   }
  },
  {
   "cell_type":"code",
   "source":[
    "elastic = ElasticNet()\n",
    "parameters = {'alpha': [1e-15,1e-13,1e-10,1e-8,1e-5,1e-4,1e-3,1e-2,1e-1,1,5,10,20,30,40,45,50,55,60,100],'l1_ratio':[0.3,0.4,0.5,0.6,0.7,0.8]}\n",
    "elastic_regressor = GridSearchCV(elastic, parameters, scoring='neg_mean_squared_error',cv=5)\n",
    "elastic_regressor.fit(X_train, y_train)"
   ],
   "execution_count":133,
   "outputs":[
    {
     "data":{
      "text\/plain":[
       "GridSearchCV(cv=5, estimator=ElasticNet(),\n",
       "             param_grid={'alpha': [1e-15, 1e-13, 1e-10, 1e-08, 1e-05, 0.0001,\n",
       "                                   0.001, 0.01, 0.1, 1, 5, 10, 20, 30, 40, 45,\n",
       "                                   50, 55, 60, 100],\n",
       "                         'l1_ratio': [0.3, 0.4, 0.5, 0.6, 0.7, 0.8]},\n",
       "             scoring='neg_mean_squared_error')"
      ]
     },
     "metadata":{
      
     },
     "output_type":"display_data"
    }
   ],
   "metadata":{
    "datalore":{
     "type":"CODE",
     "hide_input_from_viewers":false,
     "hide_output_from_viewers":false,
     "node_id":"8mjyC2SavHB6aJuZiNMGVr"
    }
   }
  },
  {
   "cell_type":"code",
   "source":[
    "print(\"The best fit alpha value is found out to be :\" ,elastic_regressor.best_params_)\n",
    "print(\"\\nUsing \",elastic_regressor.best_params_, \" the negative mean squared error is: \", elastic_regressor.best_score_)"
   ],
   "execution_count":134,
   "outputs":[
    {
     "name":"stdout",
     "text":[
      "The best fit alpha value is found out to be : {'alpha': 0.0001, 'l1_ratio': 0.8}\n",
      "\n",
      "Using  {'alpha': 0.0001, 'l1_ratio': 0.8}  the negative mean squared error is:  -0.00802520806887266\n"
     ],
     "output_type":"stream"
    }
   ],
   "metadata":{
    "datalore":{
     "type":"CODE",
     "hide_input_from_viewers":false,
     "hide_output_from_viewers":false,
     "node_id":"zBIHs4IkFDWjwv6sZI5cHc"
    }
   }
  },
  {
   "cell_type":"code",
   "source":[
    "y_pred_elastic = elastic_regressor.predict(X_test)"
   ],
   "execution_count":135,
   "outputs":[
    
   ],
   "metadata":{
    "datalore":{
     "type":"CODE",
     "hide_input_from_viewers":false,
     "hide_output_from_viewers":false,
     "node_id":"j8bvjXBGPrv7KzD4Ww5Nc1"
    }
   }
  },
  {
   "cell_type":"code",
   "source":[
    "MSE  = mean_squared_error(10**(y_test), 10**(y_pred_elastic))\n",
    "print(\"MSE :\" , MSE)\n",
    "\n",
    "RMSE = np.sqrt(MSE)\n",
    "print(\"RMSE :\" ,RMSE)\n",
    "\n",
    "r2 = r2_score(10**(y_test), 10**(y_pred_elastic))\n",
    "print(\"R2 :\" ,r2)\n",
    "print(\"Adjusted R2 : \",1-(1-r2_score(10**(y_test), 10**(y_pred_elastic)))*((X_test.shape[0]-1)\/(X_test.shape[0]-X_test.shape[1]-1)))"
   ],
   "execution_count":136,
   "outputs":[
    {
     "name":"stdout",
     "text":[
      "MSE : 8691866624.179485\n",
      "RMSE : 93230.18086531573\n",
      "R2 : 0.9745076876246264\n",
      "Adjusted R2 :  0.974210343390077\n"
     ],
     "output_type":"stream"
    }
   ],
   "metadata":{
    "datalore":{
     "type":"CODE",
     "hide_input_from_viewers":false,
     "hide_output_from_viewers":false,
     "node_id":"98lo76TtSpZ6WH04AMprjU"
    }
   }
  },
  {
   "cell_type":"code",
   "source":[
    "plt.figure(figsize=(15,5))\n",
    "plt.plot(10**(y_pred_elastic))\n",
    "plt.plot(10**(np.array(y_test)))\n",
    "plt.legend([\"Predicted\",\"Actual\"])\n",
    "plt.show()"
   ],
   "execution_count":137,
   "outputs":[
    {
     "data":{
      "image\/png":"[encoded data removed]"
     },
     "metadata":{
      "image\/png":{
       
      }
     },
     "output_type":"display_data"
    }
   ],
   "metadata":{
    "datalore":{
     "type":"CODE",
     "hide_input_from_viewers":false,
     "hide_output_from_viewers":false,
     "node_id":"QCzkYjfXO8tbGX9rgBHs41"
    }
   }
  },
  {
   "cell_type":"code",
   "source":[
    "print(plt.plot(10**np.array(y_test)))"
   ],
   "execution_count":127,
   "outputs":[
    {
     "name":"stdout",
     "text":[
      "[<matplotlib.lines.Line2D object at 0x7fb864061760>]\n"
     ],
     "output_type":"stream"
    },
    {
     "data":{
      "image\/png":"[encoded data removed]"
     },
     "metadata":{
      "image\/png":{
       
      }
     },
     "output_type":"display_data"
    }
   ],
   "metadata":{
    "datalore":{
     "type":"CODE",
     "hide_input_from_viewers":false,
     "hide_output_from_viewers":false,
     "node_id":"atXn0gjlls1DHUYTmifX3p"
    }
   }
  },
  {
   "cell_type":"code",
   "source":[
    "print(plt.plot(10**(y_pred_elastic)))"
   ],
   "execution_count":126,
   "outputs":[
    {
     "name":"stdout",
     "text":[
      "[<matplotlib.lines.Line2D object at 0x7fb86402d4f0>]\n"
     ],
     "output_type":"stream"
    },
    {
     "data":{
      "image\/png":"[encoded data removed]"
     },
     "metadata":{
      "image\/png":{
       
      }
     },
     "output_type":"display_data"
    }
   ],
   "metadata":{
    "datalore":{
     "type":"CODE",
     "hide_input_from_viewers":false,
     "hide_output_from_viewers":false,
     "node_id":"EBS8cO5a7nrUTalQMhzr46"
    }
   }
  },
  {
   "cell_type":"markdown",
   "source":[
    "# Sheet 2"
   ],
   "attachments":{
    
   },
   "metadata":{
    "datalore":{
     "type":"MD",
     "hide_input_from_viewers":false,
     "hide_output_from_viewers":false,
     "sheet_delimiter":true
    }
   }
  },
  {
   "cell_type":"markdown",
   "source":[
    "# HANDLING CATEGORICAL FEATURES IN LINEAR REGRESSION"
   ],
   "attachments":{
    
   },
   "metadata":{
    "datalore":{
     "type":"MD",
     "hide_input_from_viewers":false,
     "hide_output_from_viewers":false,
     "node_id":"bIfhudJvaxzEYiKiXiNCnZ"
    }
   }
  },
  {
   "cell_type":"code",
   "source":[
    
   ],
   "execution_count":null,
   "outputs":[
    
   ],
   "metadata":{
    "datalore":{
     "type":"CODE",
     "hide_input_from_viewers":false,
     "hide_output_from_viewers":false,
     "node_id":"0dVDlbKQKwnQtB9Gt0rXny"
    }
   }
  }
 ],
 "metadata":{
  "kernelspec":{
   "display_name":"Python",
   "language":"python",
   "name":"python"
  },
  "datalore":{
   "version":1,
   "computation_mode":"JUPYTER",
   "package_manager":"pip",
   "base_environment":"default",
   "packages":[
    
   ]
  }
 },
 "nbformat":4,
 "nbformat_minor":4
}